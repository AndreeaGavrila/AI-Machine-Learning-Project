{
 "cells": [
  {
   "cell_type": "code",
   "execution_count": 57,
   "metadata": {},
   "outputs": [],
   "source": [
    "import tensorflow as tf\n",
    "from tensorflow import keras\n",
    "from keras.models import Sequential\n",
    "from keras.layers import Dense, Flatten, Conv2D, MaxPooling2D, Dropout\n",
    "from tensorflow.keras import layers\n",
    "from keras import callbacks\n",
    "from keras.utils import to_categorical\n",
    "import numpy as np\n",
    "from numpy import asarray\n",
    "import matplotlib.pyplot as plt\n",
    "plt.style.use('fivethirtyeight')\n",
    "import math\n",
    "import pandas as pd\n",
    "import gc\n",
    "import imageio\n",
    "from PIL import Image\n",
    "import seaborn as sns\n",
    "import cv2\n",
    "import os"
   ]
  },
  {
   "cell_type": "code",
   "execution_count": 58,
   "metadata": {},
   "outputs": [
    {
     "data": {
      "text/plain": [
       "59"
      ]
     },
     "execution_count": 58,
     "metadata": {},
     "output_type": "execute_result"
    }
   ],
   "source": [
    "gc.collect()"
   ]
  },
  {
   "cell_type": "code",
   "execution_count": 51,
   "metadata": {},
   "outputs": [
    {
     "data": {
      "text/plain": [
       "['test', 'test.txt', 'train', 'train.txt', 'validation', 'validation.txt']"
      ]
     },
     "execution_count": 51,
     "metadata": {},
     "output_type": "execute_result"
    }
   ],
   "source": [
    "# Verific daca totul este bine pentru a incepe sa lucrez cu datele de intrare\n",
    "\n",
    "os.listdir('data')\n",
    "# os.listdir('./data/train')\n",
    "# os.listdir('./data/validation')\n",
    "# os.listdir('./data/test')"
   ]
  },
  {
   "cell_type": "code",
   "execution_count": 77,
   "metadata": {},
   "outputs": [
    {
     "name": "stdout",
     "output_type": "stream",
     "text": [
      "['000000.png', '000001.png', '000002.png', '000003.png']\n",
      "\n",
      "[[6]\n",
      " [0]\n",
      " [0]\n",
      " ...\n",
      " [0]\n",
      " [5]\n",
      " [0]]\n",
      "y_train type: <class 'numpy.ndarray'>\n",
      "y_train len: 30001\n",
      "y_train shape: (30001, 1)\n"
     ]
    },
    {
     "data": {
      "text/plain": [
       "0"
      ]
     },
     "execution_count": 77,
     "metadata": {},
     "output_type": "execute_result"
    }
   ],
   "source": [
    "# Citesc din fisierele train.txt, validation.txt, test.txt\n",
    "\n",
    "# atribui cele 9 clase diferite din datele cerintei\n",
    "label = { 0:'class 0', 1:'class 1', 2:'class 2', 3:'class 3', \n",
    "          4:'class 4', 5:'class 5', 6:'class 6', 7:'class 7', \n",
    "          8:'class 8'}\n",
    "\n",
    "# citesc datele Train\n",
    "\n",
    "y_train = []\n",
    "img_train = []\n",
    "\n",
    "f = open(\"data/train.txt\", \"r\")\n",
    "\n",
    "for line in f:\n",
    "    x = line.split(\",\")\n",
    "    img_train.append( x[0] )\n",
    "    y_train.append([ int( x[1][0] ) ])\n",
    "    \n",
    "y_train = np.array(y_train)\n",
    "\n",
    "print(img_train[:4]) # primele 4 imagini din train\n",
    "\n",
    "print()\n",
    "print(y_train)  # etichetele corespunzatoare imaginilor\n",
    "print('y_train type:', type(y_train))\n",
    "print('y_train len:',  len(y_train))\n",
    "print('y_train shape:', y_train.shape)\n",
    "\n",
    "gc.collect()"
   ]
  },
  {
   "cell_type": "code",
   "execution_count": 78,
   "metadata": {},
   "outputs": [
    {
     "name": "stdout",
     "output_type": "stream",
     "text": [
      "['030001.png', '030002.png', '030003.png', '030004.png']\n",
      "\n",
      "[[8]\n",
      " [1]\n",
      " [4]\n",
      " ...\n",
      " [7]\n",
      " [4]\n",
      " [8]]\n",
      "y_validation type: <class 'numpy.ndarray'>\n",
      "y_validation len: 5000\n",
      "y_validation shape: (5000, 1)\n"
     ]
    },
    {
     "data": {
      "text/plain": [
       "0"
      ]
     },
     "execution_count": 78,
     "metadata": {},
     "output_type": "execute_result"
    }
   ],
   "source": [
    "# citesc datele Validation\n",
    "\n",
    "y_validation = []\n",
    "img_validation = []\n",
    "\n",
    "f = open(\"data/validation.txt\", \"r\")\n",
    "\n",
    "for line in f:\n",
    "    x = line.split(\",\")\n",
    "    img_validation.append(x[0])\n",
    "    y_validation.append([ int( x[1][0] ) ])\n",
    "    \n",
    "y_validation = np.array(y_validation)\n",
    "\n",
    "print(img_validation[:4]) # primele 4 imagini din Validation\n",
    "\n",
    "print()\n",
    "print(y_validation) # etichetele corespunzatoare imaginilor\n",
    "print('y_validation type:', type(y_validation))\n",
    "print('y_validation len:',  len(y_validation))\n",
    "print('y_validation shape:', y_validation.shape)\n",
    "\n",
    "gc.collect()"
   ]
  },
  {
   "cell_type": "code",
   "execution_count": 79,
   "metadata": {},
   "outputs": [
    {
     "name": "stdout",
     "output_type": "stream",
     "text": [
      "['035001.png', '035002.png', '035003.png', '035004.png']\n",
      "\n",
      "[[0]\n",
      " [0]\n",
      " [0]\n",
      " ...\n",
      " [0]\n",
      " [0]\n",
      " [0]]\n",
      "y_test type: <class 'numpy.ndarray'>\n",
      "y_test len: 5000\n",
      "y_test shape: (5000, 1)\n"
     ]
    },
    {
     "data": {
      "text/plain": [
       "0"
      ]
     },
     "execution_count": 79,
     "metadata": {},
     "output_type": "execute_result"
    }
   ],
   "source": [
    "# citesc datele Test\n",
    "\n",
    "y_test = []\n",
    "img_test = []\n",
    "\n",
    "f = open(\"data/test.txt\", \"r\")\n",
    "\n",
    "for line in f:\n",
    "    x = line.split(\"\\n\")\n",
    "    img_test.append(x[0])\n",
    "    y_test.append( [ int( 0 ) ]) \n",
    "    \n",
    "y_test = np.array(y_test)\n",
    "\n",
    "print(img_test[:4]) # primele 4 imagini din Test\n",
    "\n",
    "print()\n",
    "print(y_test)  # etichetele corespunzatoare imaginilor, care sunt bineinteles necompletate acum\n",
    "print('y_test type:', type(y_test))\n",
    "print('y_test len:',  len(y_test))\n",
    "print('y_test shape:', y_test.shape)\n",
    "\n",
    "gc.collect()"
   ]
  },
  {
   "cell_type": "code",
   "execution_count": 80,
   "metadata": {},
   "outputs": [
    {
     "name": "stdout",
     "output_type": "stream",
     "text": [
      "<class 'numpy.ndarray'>\n",
      "<class 'numpy.ndarray'>\n",
      "<class 'numpy.ndarray'>\n"
     ]
    }
   ],
   "source": [
    "# Am grija sa verific tot timpul daca am lucrat bine obtinand astfel tipul numpy array\n",
    "\n",
    "print(type(y_train))\n",
    "print(type(y_validation))\n",
    "print(type(y_test))"
   ]
  },
  {
   "cell_type": "code",
   "execution_count": 102,
   "metadata": {},
   "outputs": [
    {
     "name": "stdout",
     "output_type": "stream",
     "text": [
      "(32, 32)\n"
     ]
    },
    {
     "data": {
      "image/png": "[encoded data removed]",
      "text/plain": [
       "<Figure size 432x288 with 1 Axes>"
      ]
     },
     "metadata": {},
     "output_type": "display_data"
    }
   ],
   "source": [
    "# Afisez o imagine din datele train, pentru a-mi face o idee asupra datelor de intrare\n",
    "\n",
    "img_proba = imageio.imread('./data/train/000100.png') \n",
    "\n",
    "print(img_proba.shape) # dimensiunea imaginii\n",
    "\n",
    "plt.imshow(img_proba, cmap='gray')\n",
    "plt.show()"
   ]
  },
  {
   "cell_type": "code",
   "execution_count": 103,
   "metadata": {},
   "outputs": [],
   "source": [
    "# Realizez o functie prin care incarc mai usor imaginile din datele de intrare\n",
    "\n",
    "def load_img_from_folder(fold):\n",
    "    images = []\n",
    "    for filename in os.listdir(fold):\n",
    "        img = cv2.imread(os.path.join(fold,filename))\n",
    "        if img is not None:\n",
    "            images.append(img)\n",
    "    return images"
   ]
  },
  {
   "cell_type": "code",
   "execution_count": 104,
   "metadata": {},
   "outputs": [
    {
     "name": "stdout",
     "output_type": "stream",
     "text": [
      "images_train type: <class 'list'>\n",
      "\n",
      "x_train type: <class 'numpy.ndarray'>\n",
      "x_train shape: (30001, 32, 32, 3)\n"
     ]
    },
    {
     "data": {
      "text/plain": [
       "2569"
      ]
     },
     "execution_count": 104,
     "metadata": {},
     "output_type": "execute_result"
    }
   ],
   "source": [
    "# incarc imaginile din datele Train\n",
    "\n",
    "folder_train = \"data/train/\"\n",
    "images_train = load_img_from_folder(folder_train)\n",
    "\n",
    "# verific sa am tipul dorit de date - list\n",
    "print('images_train type:', type(images_train))\n",
    "\n",
    "print()\n",
    "\n",
    "# convertesc imaginile intr-un numpy array\n",
    "x_train = asarray(images_train)\n",
    "\n",
    "# verific sa am tipul dorit de date numpy array\n",
    "print('x_train type:', type(x_train))\n",
    "\n",
    "# verific dimensiunile\n",
    "print('x_train shape:', x_train.shape)\n",
    "\n",
    "gc.collect()"
   ]
  },
  {
   "cell_type": "code",
   "execution_count": 105,
   "metadata": {},
   "outputs": [
    {
     "name": "stdout",
     "output_type": "stream",
     "text": [
      "images_validation type: <class 'list'>\n",
      "\n",
      "x_validation type: <class 'numpy.ndarray'>\n",
      "x_validation shape: (5000, 32, 32, 3)\n"
     ]
    },
    {
     "data": {
      "text/plain": [
       "20"
      ]
     },
     "execution_count": 105,
     "metadata": {},
     "output_type": "execute_result"
    }
   ],
   "source": [
    "# incarc imaginile din datele Validation\n",
    "\n",
    "folder_validation = \"data/validation/\"\n",
    "images_validation = load_img_from_folder(folder_validation)\n",
    "\n",
    "# verific sa am tipul dorit de date - list\n",
    "print('images_validation type:', type(images_validation))\n",
    "\n",
    "print()\n",
    "\n",
    "# convertesc imaginile intr-un numpy array\n",
    "x_validation = asarray(images_validation)\n",
    "\n",
    "# verific sa am tipul dorit de date numpy array\n",
    "print('x_validation type:', type(x_validation))\n",
    "\n",
    "# verific dimensiunile\n",
    "print('x_validation shape:', x_validation.shape)\n",
    "\n",
    "gc.collect()"
   ]
  },
  {
   "cell_type": "code",
   "execution_count": 106,
   "metadata": {},
   "outputs": [
    {
     "name": "stdout",
     "output_type": "stream",
     "text": [
      "images_test type: <class 'list'>\n",
      "\n",
      "x_test type: <class 'numpy.ndarray'>\n",
      "x_test shape: (5000, 32, 32, 3)\n"
     ]
    },
    {
     "data": {
      "text/plain": [
       "20"
      ]
     },
     "execution_count": 106,
     "metadata": {},
     "output_type": "execute_result"
    }
   ],
   "source": [
    "# incarc imaginile din datele Test\n",
    "\n",
    "folder_test = \"data/test/\"\n",
    "images_test = load_img_from_folder(folder_test)\n",
    "\n",
    "# verific sa am tipul dorit de date - list\n",
    "print('images_test type:', type(images_test))\n",
    "\n",
    "print()\n",
    "\n",
    "# convertesc imaginile intr-un numpy array\n",
    "x_test = asarray(images_test)\n",
    "\n",
    "# verific sa am tipul dorit de date numpy array\n",
    "print('x_test type:', type(x_test))\n",
    "\n",
    "# verific dimensiunile\n",
    "print('x_test shape:', x_test.shape)\n",
    "\n",
    "gc.collect()"
   ]
  },
  {
   "cell_type": "code",
   "execution_count": 107,
   "metadata": {},
   "outputs": [
    {
     "name": "stdout",
     "output_type": "stream",
     "text": [
      "<class 'numpy.ndarray'>\n",
      "<class 'numpy.ndarray'>\n",
      "<class 'numpy.ndarray'>\n",
      "<class 'numpy.ndarray'>\n",
      "<class 'numpy.ndarray'>\n",
      "<class 'numpy.ndarray'>\n"
     ]
    }
   ],
   "source": [
    "# Verific daca am realizat citirea bine pentru toate datele de intrare\n",
    "\n",
    "print(type(x_train))\n",
    "print(type(y_train))\n",
    "\n",
    "print(type(x_validation))\n",
    "print(type(y_validation))\n",
    "\n",
    "print(type(x_test))\n",
    "print(type(y_test))"
   ]
  },
  {
   "cell_type": "code",
   "execution_count": 108,
   "metadata": {},
   "outputs": [
    {
     "name": "stdout",
     "output_type": "stream",
     "text": [
      "x_train shape: (30001, 32, 32, 3)\n",
      "y_train shape: (30001, 1)\n",
      "\n",
      "x_validation shape: (5000, 32, 32, 3)\n",
      "y_validation shape: (5000, 1)\n",
      "\n",
      "x_test shape: (5000, 32, 32, 3)\n",
      "y_test shape: (5000, 1)\n"
     ]
    }
   ],
   "source": [
    "# Imi afisez dimensiunile tuturor datelor de intrare\n",
    "\n",
    "print('x_train shape:', x_train.shape)\n",
    "print('y_train shape:', y_train.shape)\n",
    "print()\n",
    "print('x_validation shape:', x_validation.shape)\n",
    "print('y_validation shape:', y_validation.shape)\n",
    "print()\n",
    "print('x_test shape:', x_test.shape)\n",
    "print('y_test shape:', y_test.shape)\n"
   ]
  },
  {
   "cell_type": "code",
   "execution_count": 109,
   "metadata": {},
   "outputs": [
    {
     "data": {
      "text/plain": [
       "60"
      ]
     },
     "execution_count": 109,
     "metadata": {},
     "output_type": "execute_result"
    }
   ],
   "source": [
    "gc.collect()"
   ]
  },
  {
   "cell_type": "code",
   "execution_count": 22,
   "metadata": {},
   "outputs": [
    {
     "name": "stdout",
     "output_type": "stream",
     "text": [
      "[[[146 146 146]\n",
      "  [147 147 147]\n",
      "  [144 144 144]\n",
      "  ...\n",
      "  [131 131 131]\n",
      "  [130 130 130]\n",
      "  [130 130 130]]\n",
      "\n",
      " [[140 140 140]\n",
      "  [142 142 142]\n",
      "  [141 141 141]\n",
      "  ...\n",
      "  [140 140 140]\n",
      "  [139 139 139]\n",
      "  [139 139 139]]\n",
      "\n",
      " [[139 139 139]\n",
      "  [139 139 139]\n",
      "  [141 141 141]\n",
      "  ...\n",
      "  [134 134 134]\n",
      "  [134 134 134]\n",
      "  [132 132 132]]\n",
      "\n",
      " ...\n",
      "\n",
      " [[ 30  30  30]\n",
      "  [ 32  32  32]\n",
      "  [ 31  31  31]\n",
      "  ...\n",
      "  [ 36  36  36]\n",
      "  [ 39  39  39]\n",
      "  [ 27  27  27]]\n",
      "\n",
      " [[ 31  31  31]\n",
      "  [ 36  36  36]\n",
      "  [ 35  35  35]\n",
      "  ...\n",
      "  [ 33  33  33]\n",
      "  [ 31  31  31]\n",
      "  [ 32  32  32]]\n",
      "\n",
      " [[ 36  36  36]\n",
      "  [ 35  35  35]\n",
      "  [ 36  36  36]\n",
      "  ...\n",
      "  [ 29  29  29]\n",
      "  [ 32  32  32]\n",
      "  [ 29  29  29]]]\n"
     ]
    }
   ],
   "source": [
    "# vizualizez prima imagine din datele Train\n",
    "# dar de data aceasta sub forma sa de numpy array\n",
    "\n",
    "index = 0\n",
    "print( x_train[index] )"
   ]
  },
  {
   "cell_type": "code",
   "execution_count": 110,
   "metadata": {},
   "outputs": [
    {
     "data": {
      "image/png": "[encoded data removed]",
      "text/plain": [
       "<Figure size 432x288 with 1 Axes>"
      ]
     },
     "metadata": {},
     "output_type": "display_data"
    }
   ],
   "source": [
    "# astfel o pot vizualiza datorita formei de numpy array\n",
    "\n",
    "index = 0\n",
    "img = plt.imshow( x_train[index] )"
   ]
  },
  {
   "cell_type": "code",
   "execution_count": 82,
   "metadata": {},
   "outputs": [
    {
     "name": "stdout",
     "output_type": "stream",
     "text": [
      "The image label is: [6]\n"
     ]
    }
   ],
   "source": [
    "# Afisez eticheta careia ii corespunde\n",
    "print('The image label is:', y_train[index])"
   ]
  },
  {
   "cell_type": "code",
   "execution_count": 111,
   "metadata": {},
   "outputs": [
    {
     "name": "stdout",
     "output_type": "stream",
     "text": [
      "The image class is: 6\n"
     ]
    }
   ],
   "source": [
    "# Afisez clasa careia ii corespunde\n",
    "\n",
    "classification = [ '0', '1', '2', '3', '4', '5', '6', '7', '8']\n",
    "\n",
    "print('The image class is:', classification[y_train[index][0]])"
   ]
  },
  {
   "cell_type": "code",
   "execution_count": 112,
   "metadata": {},
   "outputs": [],
   "source": [
    "# urmatorul pas este sa convertesc etichetele imaginilor intr-un set de de 9 numere binare\n",
    "# deoarece le voi da ca input retelei neuronale (NN)\n",
    "\n",
    "y_train_new = to_categorical(y_train)\n",
    "y_validation_new = to_categorical(y_validation)\n",
    "y_test_new = to_categorical(y_test)"
   ]
  },
  {
   "cell_type": "code",
   "execution_count": 113,
   "metadata": {},
   "outputs": [
    {
     "name": "stdout",
     "output_type": "stream",
     "text": [
      "(30001, 9)\n",
      "[[0. 0. 0. ... 1. 0. 0.]\n",
      " [1. 0. 0. ... 0. 0. 0.]\n",
      " [1. 0. 0. ... 0. 0. 0.]\n",
      " ...\n",
      " [1. 0. 0. ... 0. 0. 0.]\n",
      " [0. 0. 0. ... 0. 0. 0.]\n",
      " [1. 0. 0. ... 0. 0. 0.]]\n",
      "\n",
      "(5000, 9)\n",
      "[[0. 0. 0. ... 0. 0. 1.]\n",
      " [0. 1. 0. ... 0. 0. 0.]\n",
      " [0. 0. 0. ... 0. 0. 0.]\n",
      " ...\n",
      " [0. 0. 0. ... 0. 1. 0.]\n",
      " [0. 0. 0. ... 0. 0. 0.]\n",
      " [0. 0. 0. ... 0. 0. 1.]]\n",
      "\n",
      "(5000, 1)\n",
      "[[1.]\n",
      " [1.]\n",
      " [1.]\n",
      " ...\n",
      " [1.]\n",
      " [1.]\n",
      " [1.]]\n"
     ]
    },
    {
     "data": {
      "text/plain": [
       "2586"
      ]
     },
     "execution_count": 113,
     "metadata": {},
     "output_type": "execute_result"
    }
   ],
   "source": [
    "print(y_train_new.shape)\n",
    "print(y_train_new)\n",
    "print()\n",
    "print(y_validation_new.shape)\n",
    "print(y_validation_new)\n",
    "print()\n",
    "print(y_test_new.shape)\n",
    "print(y_test_new)\n",
    "\n",
    "gc.collect()"
   ]
  },
  {
   "cell_type": "code",
   "execution_count": 114,
   "metadata": {},
   "outputs": [
    {
     "name": "stdout",
     "output_type": "stream",
     "text": [
      "The new label is: [0. 0. 0. 0. 0. 0. 1. 0. 0.]\n"
     ]
    }
   ],
   "source": [
    "# pentru a ma verifica daca am lucrat corect, \n",
    "# afisez noua eticheta a primei imagini\n",
    "\n",
    "print ('The new label is:', y_train_new[index])"
   ]
  },
  {
   "cell_type": "code",
   "execution_count": 115,
   "metadata": {},
   "outputs": [],
   "source": [
    "# Acum trebuie sa normalizez pixelii pentru a avea valori doar intre 0 si 1 \n",
    "\n",
    "x_train = x_train / 255\n",
    "x_validation = x_validation / 255\n",
    "x_test = x_test / 255"
   ]
  },
  {
   "cell_type": "code",
   "execution_count": 116,
   "metadata": {},
   "outputs": [
    {
     "name": "stdout",
     "output_type": "stream",
     "text": [
      "[[[0.57254902 0.57254902 0.57254902]\n",
      "  [0.57647059 0.57647059 0.57647059]\n",
      "  [0.56470588 0.56470588 0.56470588]\n",
      "  ...\n",
      "  [0.51372549 0.51372549 0.51372549]\n",
      "  [0.50980392 0.50980392 0.50980392]\n",
      "  [0.50980392 0.50980392 0.50980392]]\n",
      "\n",
      " [[0.54901961 0.54901961 0.54901961]\n",
      "  [0.55686275 0.55686275 0.55686275]\n",
      "  [0.55294118 0.55294118 0.55294118]\n",
      "  ...\n",
      "  [0.54901961 0.54901961 0.54901961]\n",
      "  [0.54509804 0.54509804 0.54509804]\n",
      "  [0.54509804 0.54509804 0.54509804]]\n",
      "\n",
      " [[0.54509804 0.54509804 0.54509804]\n",
      "  [0.54509804 0.54509804 0.54509804]\n",
      "  [0.55294118 0.55294118 0.55294118]\n",
      "  ...\n",
      "  [0.5254902  0.5254902  0.5254902 ]\n",
      "  [0.5254902  0.5254902  0.5254902 ]\n",
      "  [0.51764706 0.51764706 0.51764706]]\n",
      "\n",
      " ...\n",
      "\n",
      " [[0.11764706 0.11764706 0.11764706]\n",
      "  [0.1254902  0.1254902  0.1254902 ]\n",
      "  [0.12156863 0.12156863 0.12156863]\n",
      "  ...\n",
      "  [0.14117647 0.14117647 0.14117647]\n",
      "  [0.15294118 0.15294118 0.15294118]\n",
      "  [0.10588235 0.10588235 0.10588235]]\n",
      "\n",
      " [[0.12156863 0.12156863 0.12156863]\n",
      "  [0.14117647 0.14117647 0.14117647]\n",
      "  [0.1372549  0.1372549  0.1372549 ]\n",
      "  ...\n",
      "  [0.12941176 0.12941176 0.12941176]\n",
      "  [0.12156863 0.12156863 0.12156863]\n",
      "  [0.1254902  0.1254902  0.1254902 ]]\n",
      "\n",
      " [[0.14117647 0.14117647 0.14117647]\n",
      "  [0.1372549  0.1372549  0.1372549 ]\n",
      "  [0.14117647 0.14117647 0.14117647]\n",
      "  ...\n",
      "  [0.11372549 0.11372549 0.11372549]\n",
      "  [0.1254902  0.1254902  0.1254902 ]\n",
      "  [0.11372549 0.11372549 0.11372549]]]\n",
      "[[[0.23921569 0.23921569 0.23921569]\n",
      "  [0.22745098 0.22745098 0.22745098]\n",
      "  [0.23529412 0.23529412 0.23529412]\n",
      "  ...\n",
      "  [0.2745098  0.2745098  0.2745098 ]\n",
      "  [0.27058824 0.27058824 0.27058824]\n",
      "  [0.29019608 0.29019608 0.29019608]]\n",
      "\n",
      " [[0.21568627 0.21568627 0.21568627]\n",
      "  [0.21568627 0.21568627 0.21568627]\n",
      "  [0.22352941 0.22352941 0.22352941]\n",
      "  ...\n",
      "  [0.25098039 0.25098039 0.25098039]\n",
      "  [0.2627451  0.2627451  0.2627451 ]\n",
      "  [0.2745098  0.2745098  0.2745098 ]]\n",
      "\n",
      " [[0.21176471 0.21176471 0.21176471]\n",
      "  [0.20392157 0.20392157 0.20392157]\n",
      "  [0.2        0.2        0.2       ]\n",
      "  ...\n",
      "  [0.24705882 0.24705882 0.24705882]\n",
      "  [0.2627451  0.2627451  0.2627451 ]\n",
      "  [0.2627451  0.2627451  0.2627451 ]]\n",
      "\n",
      " ...\n",
      "\n",
      " [[0.04313725 0.04313725 0.04313725]\n",
      "  [0.03921569 0.03921569 0.03921569]\n",
      "  [0.05098039 0.05098039 0.05098039]\n",
      "  ...\n",
      "  [0.07058824 0.07058824 0.07058824]\n",
      "  [0.02352941 0.02352941 0.02352941]\n",
      "  [0.03137255 0.03137255 0.03137255]]\n",
      "\n",
      " [[0.05098039 0.05098039 0.05098039]\n",
      "  [0.04313725 0.04313725 0.04313725]\n",
      "  [0.03529412 0.03529412 0.03529412]\n",
      "  ...\n",
      "  [0.0627451  0.0627451  0.0627451 ]\n",
      "  [0.10980392 0.10980392 0.10980392]\n",
      "  [0.15294118 0.15294118 0.15294118]]\n",
      "\n",
      " [[0.05490196 0.05490196 0.05490196]\n",
      "  [0.03137255 0.03137255 0.03137255]\n",
      "  [0.02745098 0.02745098 0.02745098]\n",
      "  ...\n",
      "  [0.17647059 0.17647059 0.17647059]\n",
      "  [0.21176471 0.21176471 0.21176471]\n",
      "  [0.14509804 0.14509804 0.14509804]]]\n",
      "[[[0.38431373 0.38431373 0.38431373]\n",
      "  [0.42352941 0.42352941 0.42352941]\n",
      "  [0.3372549  0.3372549  0.3372549 ]\n",
      "  ...\n",
      "  [0.35294118 0.35294118 0.35294118]\n",
      "  [0.37647059 0.37647059 0.37647059]\n",
      "  [0.35686275 0.35686275 0.35686275]]\n",
      "\n",
      " [[0.35294118 0.35294118 0.35294118]\n",
      "  [0.40784314 0.40784314 0.40784314]\n",
      "  [0.3372549  0.3372549  0.3372549 ]\n",
      "  ...\n",
      "  [0.41960784 0.41960784 0.41960784]\n",
      "  [0.33333333 0.33333333 0.33333333]\n",
      "  [0.29019608 0.29019608 0.29019608]]\n",
      "\n",
      " [[0.40392157 0.40392157 0.40392157]\n",
      "  [0.4627451  0.4627451  0.4627451 ]\n",
      "  [0.32156863 0.32156863 0.32156863]\n",
      "  ...\n",
      "  [0.84313725 0.84313725 0.84313725]\n",
      "  [0.81176471 0.81176471 0.81176471]\n",
      "  [0.77254902 0.77254902 0.77254902]]\n",
      "\n",
      " ...\n",
      "\n",
      " [[0.80784314 0.80784314 0.80784314]\n",
      "  [0.81176471 0.81176471 0.81176471]\n",
      "  [0.83529412 0.83529412 0.83529412]\n",
      "  ...\n",
      "  [0.96862745 0.96862745 0.96862745]\n",
      "  [0.94509804 0.94509804 0.94509804]\n",
      "  [0.96862745 0.96862745 0.96862745]]\n",
      "\n",
      " [[0.77647059 0.77647059 0.77647059]\n",
      "  [0.84313725 0.84313725 0.84313725]\n",
      "  [0.83137255 0.83137255 0.83137255]\n",
      "  ...\n",
      "  [0.97647059 0.97647059 0.97647059]\n",
      "  [0.98431373 0.98431373 0.98431373]\n",
      "  [0.98039216 0.98039216 0.98039216]]\n",
      "\n",
      " [[0.74901961 0.74901961 0.74901961]\n",
      "  [0.76078431 0.76078431 0.76078431]\n",
      "  [0.81176471 0.81176471 0.81176471]\n",
      "  ...\n",
      "  [0.87843137 0.87843137 0.87843137]\n",
      "  [0.92156863 0.92156863 0.92156863]\n",
      "  [0.87843137 0.87843137 0.87843137]]]\n"
     ]
    }
   ],
   "source": [
    "# verific pentru prima imagine din fiecare set de date\n",
    "# pentru a ma asigura ca am valori doar intre 0 si 1\n",
    "print( x_train[index] )\n",
    "print( x_validation[index] )\n",
    "print( x_test[index] )"
   ]
  },
  {
   "cell_type": "code",
   "execution_count": 117,
   "metadata": {},
   "outputs": [
    {
     "data": {
      "text/plain": [
       "80"
      ]
     },
     "execution_count": 117,
     "metadata": {},
     "output_type": "execute_result"
    }
   ],
   "source": [
    "gc.collect()"
   ]
  },
  {
   "cell_type": "code",
   "execution_count": 44,
   "metadata": {},
   "outputs": [],
   "source": [
    "# Realizez arhitectura modelului\n",
    "\n",
    "model = Sequential()\n",
    "\n",
    "# Adaug primul layer\n",
    "model.add( Conv2D( 32, (5,5), activation = 'relu', input_shape = (32, 32, 3) ))\n",
    "\n",
    "# Adaug un pooling layer\n",
    "model.add( MaxPooling2D( pool_size = (2,2) ))\n",
    "\n",
    "# Adaug al 2-lea Convolution layer\n",
    "model.add( Conv2D( 32, (5,5), activation = 'relu'))\n",
    "\n",
    "# Adaug al 2-lea pooling layer\n",
    "model.add( MaxPooling2D( pool_size = (2,2) ))\n",
    "\n",
    "# Adaug un flattening layer\n",
    "model.add( Flatten() )\n",
    "\n",
    "# Adaug un layer cu 1000 neuroni\n",
    "model.add( Dense(1000, activation = 'relu') )\n",
    "\n",
    "# Adaug un drop layer\n",
    "model.add( Dropout(0.5) )\n",
    "\n",
    "# Adaug un layer cu 500 neuroni\n",
    "model.add( Dense(500, activation = 'relu') )\n",
    "\n",
    "# Adaug un drop layer\n",
    "model.add( Dropout(0.5) )\n",
    "\n",
    "# Adaug un layer cu 250 neuroni\n",
    "model.add( Dense(250, activation = 'relu') )\n",
    "\n",
    "# Adaug un layer cu 9 neuroni deoarce stim ca avem 9 clasa diferite\n",
    "model.add( Dense(9, activation = 'softmax') )\n"
   ]
  },
  {
   "cell_type": "code",
   "execution_count": 45,
   "metadata": {},
   "outputs": [
    {
     "name": "stdout",
     "output_type": "stream",
     "text": [
      "Model: \"sequential\"\n",
      "_________________________________________________________________\n",
      "Layer (type)                 Output Shape              Param #   \n",
      "=================================================================\n",
      "conv2d (Conv2D)              (None, 28, 28, 32)        2432      \n",
      "_________________________________________________________________\n",
      "max_pooling2d (MaxPooling2D) (None, 14, 14, 32)        0         \n",
      "_________________________________________________________________\n",
      "conv2d_1 (Conv2D)            (None, 10, 10, 32)        25632     \n",
      "_________________________________________________________________\n",
      "max_pooling2d_1 (MaxPooling2 (None, 5, 5, 32)          0         \n",
      "_________________________________________________________________\n",
      "flatten (Flatten)            (None, 800)               0         \n",
      "_________________________________________________________________\n",
      "dense (Dense)                (None, 1000)              801000    \n",
      "_________________________________________________________________\n",
      "dropout (Dropout)            (None, 1000)              0         \n",
      "_________________________________________________________________\n",
      "dense_1 (Dense)              (None, 500)               500500    \n",
      "_________________________________________________________________\n",
      "dropout_1 (Dropout)          (None, 500)               0         \n",
      "_________________________________________________________________\n",
      "dense_2 (Dense)              (None, 250)               125250    \n",
      "_________________________________________________________________\n",
      "dense_3 (Dense)              (None, 9)                 2259      \n",
      "=================================================================\n",
      "Total params: 1,457,073\n",
      "Trainable params: 1,457,073\n",
      "Non-trainable params: 0\n",
      "_________________________________________________________________\n"
     ]
    }
   ],
   "source": [
    "# Vizualizez arhitectura modelului\n",
    "model.summary()"
   ]
  },
  {
   "cell_type": "code",
   "execution_count": 215,
   "metadata": {},
   "outputs": [],
   "source": [
    "# Compilez modelul, cu un optimizator des folosit\n",
    "\n",
    "model.compile(optimizer =\"adam\", \n",
    "              loss =\"categorical_crossentropy\",\n",
    "              metrics =['accuracy'])"
   ]
  },
  {
   "cell_type": "code",
   "execution_count": 29,
   "metadata": {},
   "outputs": [],
   "source": [
    "# Compilez modelul, cu alt optimizator\n",
    "\n",
    "model.compile(optimizer =\"rmsprop\", \n",
    "              loss =\"categorical_crossentropy\",\n",
    "              metrics =['accuracy'])"
   ]
  },
  {
   "cell_type": "code",
   "execution_count": 111,
   "metadata": {},
   "outputs": [],
   "source": [
    "# Compilez modelul adaugand o rata de invatare (learning_rate)\n",
    "\n",
    "model.compile(\n",
    "    optimizer=keras.optimizers.RMSprop(learning_rate=1e-3),\n",
    "    loss=\"categorical_crossentropy\",\n",
    "    metrics=[\"accuracy\"],\n",
    ")"
   ]
  },
  {
   "cell_type": "code",
   "execution_count": 63,
   "metadata": {},
   "outputs": [
    {
     "name": "stdout",
     "output_type": "stream",
     "text": [
      "Epoch 1/30\n",
      "59/59 [==============================] - 26s 419ms/step - loss: 0.2469 - accuracy: 0.9514 - val_loss: 0.5535 - val_accuracy: 0.8712\n",
      "Epoch 2/30\n",
      "59/59 [==============================] - 24s 409ms/step - loss: 0.0688 - accuracy: 0.9785 - val_loss: 0.5298 - val_accuracy: 0.8862\n",
      "Epoch 3/30\n",
      "59/59 [==============================] - 24s 414ms/step - loss: 0.0543 - accuracy: 0.9820 - val_loss: 0.5333 - val_accuracy: 0.8840\n",
      "Epoch 4/30\n",
      "59/59 [==============================] - 24s 415ms/step - loss: 0.0543 - accuracy: 0.9839 - val_loss: 0.5116 - val_accuracy: 0.8828\n",
      "Epoch 5/30\n",
      "59/59 [==============================] - 23s 395ms/step - loss: 0.0484 - accuracy: 0.9846 - val_loss: 0.5177 - val_accuracy: 0.8864\n",
      "Epoch 6/30\n",
      "59/59 [==============================] - 25s 429ms/step - loss: 0.0603 - accuracy: 0.9814 - val_loss: 0.5853 - val_accuracy: 0.8810\n",
      "Epoch 7/30\n",
      "59/59 [==============================] - 24s 411ms/step - loss: 0.0503 - accuracy: 0.9847 - val_loss: 0.5134 - val_accuracy: 0.8846\n",
      "Epoch 8/30\n",
      "59/59 [==============================] - 24s 407ms/step - loss: 0.0484 - accuracy: 0.9849 - val_loss: 0.9039 - val_accuracy: 0.8412\n",
      "Epoch 9/30\n",
      "59/59 [==============================] - 24s 413ms/step - loss: 0.0550 - accuracy: 0.9845 - val_loss: 0.6156 - val_accuracy: 0.8662\n",
      "Epoch 10/30\n",
      "59/59 [==============================] - 23s 396ms/step - loss: 0.0465 - accuracy: 0.9853 - val_loss: 0.5060 - val_accuracy: 0.8852\n",
      "Epoch 11/30\n",
      "59/59 [==============================] - 24s 400ms/step - loss: 0.0489 - accuracy: 0.9847 - val_loss: 0.5515 - val_accuracy: 0.8892\n",
      "Epoch 12/30\n",
      "59/59 [==============================] - 23s 395ms/step - loss: 0.0488 - accuracy: 0.9847 - val_loss: 0.6383 - val_accuracy: 0.8846\n",
      "Epoch 13/30\n",
      "59/59 [==============================] - 24s 410ms/step - loss: 0.0446 - accuracy: 0.9865 - val_loss: 0.6505 - val_accuracy: 0.8706\n",
      "Epoch 14/30\n",
      "59/59 [==============================] - 24s 407ms/step - loss: 0.0539 - accuracy: 0.9837 - val_loss: 0.4977 - val_accuracy: 0.8870\n",
      "Epoch 15/30\n",
      "59/59 [==============================] - 23s 385ms/step - loss: 0.0454 - accuracy: 0.9860 - val_loss: 0.6209 - val_accuracy: 0.8806\n",
      "Epoch 16/30\n",
      "59/59 [==============================] - 24s 409ms/step - loss: 0.0393 - accuracy: 0.9879 - val_loss: 0.5695 - val_accuracy: 0.8858\n",
      "Epoch 17/30\n",
      "59/59 [==============================] - 24s 402ms/step - loss: 0.0382 - accuracy: 0.9883 - val_loss: 0.6250 - val_accuracy: 0.8760\n",
      "Epoch 18/30\n",
      "59/59 [==============================] - 25s 423ms/step - loss: 0.0374 - accuracy: 0.9879 - val_loss: 0.6931 - val_accuracy: 0.8752\n",
      "Epoch 19/30\n",
      "59/59 [==============================] - 25s 417ms/step - loss: 0.0489 - accuracy: 0.9847 - val_loss: 0.6044 - val_accuracy: 0.8878\n",
      "Epoch 20/30\n",
      "59/59 [==============================] - 23s 393ms/step - loss: 0.0432 - accuracy: 0.9864 - val_loss: 0.6760 - val_accuracy: 0.8734\n",
      "Epoch 21/30\n",
      "59/59 [==============================] - 24s 414ms/step - loss: 0.0421 - accuracy: 0.9869 - val_loss: 0.6760 - val_accuracy: 0.8810\n",
      "Epoch 22/30\n",
      "59/59 [==============================] - 25s 425ms/step - loss: 0.0485 - accuracy: 0.9847 - val_loss: 0.5315 - val_accuracy: 0.8810\n",
      "Epoch 23/30\n",
      "59/59 [==============================] - 24s 414ms/step - loss: 0.0353 - accuracy: 0.9887 - val_loss: 0.7230 - val_accuracy: 0.8714\n",
      "Epoch 24/30\n",
      "59/59 [==============================] - 24s 409ms/step - loss: 0.0423 - accuracy: 0.9877 - val_loss: 0.5630 - val_accuracy: 0.8898\n",
      "Epoch 25/30\n",
      "59/59 [==============================] - 25s 427ms/step - loss: 0.0408 - accuracy: 0.9881 - val_loss: 0.5990 - val_accuracy: 0.8896\n",
      "Epoch 26/30\n",
      "59/59 [==============================] - 25s 429ms/step - loss: 0.0408 - accuracy: 0.9873 - val_loss: 0.6253 - val_accuracy: 0.8816\n",
      "Epoch 27/30\n",
      "59/59 [==============================] - 25s 419ms/step - loss: 0.0407 - accuracy: 0.9881 - val_loss: 0.7232 - val_accuracy: 0.8764\n",
      "Epoch 28/30\n",
      "59/59 [==============================] - 25s 422ms/step - loss: 0.0373 - accuracy: 0.9888 - val_loss: 0.6822 - val_accuracy: 0.8828\n",
      "Epoch 29/30\n",
      "59/59 [==============================] - 25s 425ms/step - loss: 0.0411 - accuracy: 0.9879 - val_loss: 0.7337 - val_accuracy: 0.8654\n",
      "Epoch 30/30\n",
      "59/59 [==============================] - 25s 416ms/step - loss: 0.0438 - accuracy: 0.9865 - val_loss: 0.6489 - val_accuracy: 0.8866\n"
     ]
    }
   ],
   "source": [
    "# Antrenez modelul\n",
    "\n",
    "hist = model.fit( \n",
    "    x_train,\n",
    "    y_train_new,\n",
    "    batch_size = 512,\n",
    "    epochs = 30,\n",
    "    validation_data = (x_validation, y_validation_new) )\n"
   ]
  },
  {
   "cell_type": "code",
   "execution_count": 100,
   "metadata": {},
   "outputs": [
    {
     "name": "stdout",
     "output_type": "stream",
     "text": [
      "157/157 [==============================] - 1s 6ms/step - loss: 0.6489 - accuracy: 0.8866\n"
     ]
    },
    {
     "data": {
      "text/plain": [
       "0.8866000175476074"
      ]
     },
     "execution_count": 100,
     "metadata": {},
     "output_type": "execute_result"
    }
   ],
   "source": [
    "# Evaluez modelul pe datele de validare\n",
    "\n",
    "model.evaluate( x_validation, y_validation_new)[1]"
   ]
  },
  {
   "cell_type": "code",
   "execution_count": 77,
   "metadata": {},
   "outputs": [
    {
     "name": "stdout",
     "output_type": "stream",
     "text": [
      "938/938 [==============================] - 11s 12ms/step - loss: 0.0018 - accuracy: 0.9995\n"
     ]
    },
    {
     "data": {
      "text/plain": [
       "0.999500036239624"
      ]
     },
     "execution_count": 77,
     "metadata": {},
     "output_type": "execute_result"
    }
   ],
   "source": [
    "# Evaluez modelul pe datele train\n",
    "\n",
    "model.evaluate( x_train, y_train_new)[1]"
   ]
  },
  {
   "cell_type": "code",
   "execution_count": 34,
   "metadata": {},
   "outputs": [
    {
     "data": {
      "text/plain": [
       "20"
      ]
     },
     "execution_count": 34,
     "metadata": {},
     "output_type": "execute_result"
    }
   ],
   "source": [
    "gc.collect()"
   ]
  },
  {
   "cell_type": "code",
   "execution_count": null,
   "metadata": {},
   "outputs": [],
   "source": []
  },
  {
   "cell_type": "code",
   "execution_count": null,
   "metadata": {},
   "outputs": [],
   "source": []
  },
  {
   "cell_type": "code",
   "execution_count": 59,
   "metadata": {},
   "outputs": [],
   "source": [
    "# Compilez modelul adaugand o rata de invatare (learning_rate)\n",
    "\n",
    "model.compile(\n",
    "#     optimizer=\"rmsprop\",\n",
    "    optimizer=keras.optimizers.RMSprop(learning_rate=1e-3),\n",
    "    loss=\"categorical_crossentropy\",\n",
    "    metrics=[\"accuracy\"],\n",
    ")"
   ]
  },
  {
   "cell_type": "code",
   "execution_count": 342,
   "metadata": {},
   "outputs": [
    {
     "name": "stdout",
     "output_type": "stream",
     "text": [
      "Epoch 1/30\n",
      "59/59 [==============================] - 16s 254ms/step - loss: 0.1645 - accuracy: 0.9653 - val_loss: 0.9002 - val_accuracy: 0.8710\n",
      "Epoch 2/30\n",
      "59/59 [==============================] - 15s 253ms/step - loss: 0.0458 - accuracy: 0.9888 - val_loss: 0.7849 - val_accuracy: 0.8900\n",
      "Epoch 3/30\n",
      "59/59 [==============================] - 15s 249ms/step - loss: 0.0442 - accuracy: 0.9883 - val_loss: 0.9412 - val_accuracy: 0.8654\n",
      "Epoch 4/30\n",
      "59/59 [==============================] - 15s 250ms/step - loss: 0.0483 - accuracy: 0.9879 - val_loss: 0.7084 - val_accuracy: 0.8798\n",
      "Epoch 5/30\n",
      "59/59 [==============================] - 15s 249ms/step - loss: 0.0430 - accuracy: 0.9880 - val_loss: 0.8509 - val_accuracy: 0.8840\n",
      "Epoch 6/30\n",
      "59/59 [==============================] - 15s 251ms/step - loss: 0.0444 - accuracy: 0.9894 - val_loss: 0.8440 - val_accuracy: 0.8696\n",
      "Epoch 7/30\n",
      "59/59 [==============================] - 15s 251ms/step - loss: 0.0507 - accuracy: 0.9867 - val_loss: 0.7001 - val_accuracy: 0.8878\n",
      "Epoch 8/30\n",
      "59/59 [==============================] - 15s 250ms/step - loss: 0.0391 - accuracy: 0.9892 - val_loss: 0.8004 - val_accuracy: 0.8766\n",
      "Epoch 9/30\n",
      "59/59 [==============================] - 15s 249ms/step - loss: 0.0458 - accuracy: 0.9882 - val_loss: 0.8110 - val_accuracy: 0.8904\n",
      "Epoch 10/30\n",
      "59/59 [==============================] - 15s 259ms/step - loss: 0.0366 - accuracy: 0.9897 - val_loss: 0.9624 - val_accuracy: 0.8770\n",
      "Epoch 11/30\n",
      "59/59 [==============================] - 15s 252ms/step - loss: 0.0478 - accuracy: 0.9872 - val_loss: 0.7624 - val_accuracy: 0.8812\n",
      "Epoch 12/30\n",
      "59/59 [==============================] - 15s 255ms/step - loss: 0.0557 - accuracy: 0.9861 - val_loss: 0.7102 - val_accuracy: 0.8800\n"
     ]
    }
   ],
   "source": [
    "# Antrenez modelul adaugand earlystopping, \n",
    "# deoarece daca nu se imbunatatesc rezultatele, nu are sens sa mai continui rularea epocilor\n",
    "\n",
    "earlystopping = callbacks.EarlyStopping(monitor =\"val_loss\", \n",
    "                                        mode =\"min\", patience = 5, \n",
    "                                        restore_best_weights = True)\n",
    "  \n",
    "hist = model.fit( x_train, \n",
    "                 y_train_new, \n",
    "                 batch_size = 512, \n",
    "                 epochs = 30, \n",
    "                 validation_data = (x_validation, y_validation_new),\n",
    "                 callbacks =[earlystopping] )"
   ]
  },
  {
   "cell_type": "code",
   "execution_count": 344,
   "metadata": {},
   "outputs": [
    {
     "name": "stdout",
     "output_type": "stream",
     "text": [
      "157/157 [==============================] - 1s 6ms/step - loss: 0.7001 - accuracy: 0.8878\n"
     ]
    },
    {
     "data": {
      "text/plain": [
       "0.8877999782562256"
      ]
     },
     "execution_count": 344,
     "metadata": {},
     "output_type": "execute_result"
    }
   ],
   "source": [
    "# Evaluez modelul pe datele de validare\n",
    "\n",
    "model.evaluate( x_validation, y_validation_new)[1]"
   ]
  },
  {
   "cell_type": "code",
   "execution_count": 343,
   "metadata": {},
   "outputs": [
    {
     "name": "stdout",
     "output_type": "stream",
     "text": [
      "938/938 [==============================] - 5s 6ms/step - loss: 0.0021 - accuracy: 0.9999\n"
     ]
    },
    {
     "data": {
      "text/plain": [
       "0.9998999834060669"
      ]
     },
     "execution_count": 343,
     "metadata": {},
     "output_type": "execute_result"
    }
   ],
   "source": [
    "# Evaluez modelul pe datele train\n",
    "\n",
    "model.evaluate( x_train, y_train_new)[1]"
   ]
  },
  {
   "cell_type": "code",
   "execution_count": null,
   "metadata": {},
   "outputs": [],
   "source": [
    "gc.collect()"
   ]
  },
  {
   "cell_type": "code",
   "execution_count": null,
   "metadata": {},
   "outputs": [],
   "source": []
  },
  {
   "cell_type": "code",
   "execution_count": null,
   "metadata": {},
   "outputs": [],
   "source": []
  },
  {
   "cell_type": "code",
   "execution_count": null,
   "metadata": {},
   "outputs": [],
   "source": []
  },
  {
   "cell_type": "code",
   "execution_count": 60,
   "metadata": {},
   "outputs": [],
   "source": [
    "# Am incercat sa modific putin arhitectura modelului, dar nu s-au imbunatatit rezultatele\n",
    "\n",
    "model = Sequential()\n",
    "\n",
    "# Adaug primul layer\n",
    "model.add( Conv2D( 32, (5,5), activation = 'relu', input_shape = (32, 32, 3) ))\n",
    "\n",
    "# Adaug un pooling layer\n",
    "model.add( MaxPooling2D( pool_size = (2,2) ))\n",
    "\n",
    "# Adaug al 2-lea Convolution layer\n",
    "model.add( Conv2D( 32, (5,5), activation = 'relu'))\n",
    "\n",
    "# Adaug al 2-lea pooling layer\n",
    "model.add( MaxPooling2D( pool_size = (2,2) ))\n",
    "\n",
    "# Am incercat sa adaug un al 3-lea Convolution layer\n",
    "# model.add( Conv2D( 32, (5,5), activation = 'relu'))\n",
    "\n",
    "# Adaug un flattening layer\n",
    "model.add( Flatten() )\n",
    "\n",
    "# Adaug un layer cu 1000 neuroni\n",
    "model.add( Dense(1000, activation = 'relu') )\n",
    "\n",
    "# Adaug un drop layer\n",
    "model.add( Dropout(0.5) )\n",
    "\n",
    "# Adaug un layer cu 500 neuroni\n",
    "model.add( Dense(500, activation = 'relu') )\n",
    "\n",
    "# Adaug un drop layer\n",
    "model.add( Dropout(0.5) )\n",
    "\n",
    "# Adaug un layer cu 250 neuroni\n",
    "model.add( Dense(250, activation = 'relu') )\n",
    "\n",
    "# Adaug un layer cu 9 neuroni deoarce stim ca avem 9 clasa diferite\n",
    "model.add( Dense(9, activation = 'softmax') )\n"
   ]
  },
  {
   "cell_type": "code",
   "execution_count": 118,
   "metadata": {},
   "outputs": [
    {
     "data": {
      "text/plain": [
       "20"
      ]
     },
     "execution_count": 118,
     "metadata": {},
     "output_type": "execute_result"
    }
   ],
   "source": [
    "gc.collect()"
   ]
  },
  {
   "cell_type": "code",
   "execution_count": 62,
   "metadata": {},
   "outputs": [],
   "source": [
    "# Compilez modelul\n",
    "\n",
    "model.compile(\n",
    "    optimizer = keras.optimizers.RMSprop(learning_rate = 1e-3),\n",
    "    loss = \"categorical_crossentropy\",\n",
    "    metrics = [\"accuracy\"],\n",
    ")"
   ]
  },
  {
   "cell_type": "code",
   "execution_count": 136,
   "metadata": {},
   "outputs": [],
   "source": [
    "# Compilez modelul, dar scimb optimizatorul, si pastrand rata de invatare (learning_rate = 1e-3)\n",
    "\n",
    "model.compile( \n",
    "              optimizer = keras.optimizers.Adam(learning_rate = 1e-3), \n",
    "              loss = \"categorical_crossentropy\",\n",
    "              metrics = ['accuracy'])"
   ]
  },
  {
   "cell_type": "code",
   "execution_count": 63,
   "metadata": {
    "scrolled": true
   },
   "outputs": [
    {
     "name": "stdout",
     "output_type": "stream",
     "text": [
      "Epoch 1/50\n",
      "30/30 [==============================] - 17s 520ms/step - loss: 2.1569 - accuracy: 0.1935 - val_loss: 1.5616 - val_accuracy: 0.4828\n",
      "Epoch 2/50\n",
      "30/30 [==============================] - 15s 501ms/step - loss: 1.6825 - accuracy: 0.4353 - val_loss: 1.4065 - val_accuracy: 0.5564\n",
      "Epoch 3/50\n",
      "30/30 [==============================] - 14s 484ms/step - loss: 1.3359 - accuracy: 0.5520 - val_loss: 0.9733 - val_accuracy: 0.6714\n",
      "Epoch 4/50\n",
      "30/30 [==============================] - 15s 487ms/step - loss: 1.0831 - accuracy: 0.6330 - val_loss: 0.8095 - val_accuracy: 0.7284\n",
      "Epoch 5/50\n",
      "30/30 [==============================] - 15s 492ms/step - loss: 0.9519 - accuracy: 0.6779 - val_loss: 0.8241 - val_accuracy: 0.7156\n",
      "Epoch 6/50\n",
      "30/30 [==============================] - 15s 494ms/step - loss: 0.8523 - accuracy: 0.7115 - val_loss: 0.8246 - val_accuracy: 0.7178\n"
     ]
    }
   ],
   "source": [
    "# Antrenez modelul adaugand earlystopping\n",
    "# si modific dimensiunea batch si numarul de epoci\n",
    "\n",
    "earlystopping = callbacks.EarlyStopping( \n",
    "                                        monitor =\"val_loss\", \n",
    "                                        mode =\"min\", patience = 2,\n",
    "                                        restore_best_weights = True)                                        \n",
    "  \n",
    "hist = model.fit( x_train, \n",
    "                  y_train_new, \n",
    "                  batch_size = 1024, \n",
    "                  epochs = 50, \n",
    "                  validation_data = (x_validation, y_validation_new),\n",
    "                  callbacks =[earlystopping] )"
   ]
  },
  {
   "cell_type": "code",
   "execution_count": null,
   "metadata": {},
   "outputs": [],
   "source": []
  },
  {
   "cell_type": "code",
   "execution_count": null,
   "metadata": {},
   "outputs": [],
   "source": [
    "# Test pentru clasificatorul KNN"
   ]
  },
  {
   "cell_type": "code",
   "execution_count": 64,
   "metadata": {},
   "outputs": [
    {
     "name": "stdout",
     "output_type": "stream",
     "text": [
      "157/157 [==============================] - 1s 5ms/step - loss: 0.8095 - accuracy: 0.7284\n"
     ]
    },
    {
     "data": {
      "text/plain": [
       "0.7283999919891357"
      ]
     },
     "execution_count": 64,
     "metadata": {},
     "output_type": "execute_result"
    }
   ],
   "source": [
    "# Evaluez modelul pe datele de validare\n",
    "\n",
    "model.evaluate( x_validation, y_validation_new)[1]"
   ]
  },
  {
   "cell_type": "code",
   "execution_count": 65,
   "metadata": {},
   "outputs": [
    {
     "name": "stdout",
     "output_type": "stream",
     "text": [
      "938/938 [==============================] - 5s 6ms/step - loss: 0.7850 - accuracy: 0.7372\n"
     ]
    },
    {
     "data": {
      "text/plain": [
       "0.7372421026229858"
      ]
     },
     "execution_count": 65,
     "metadata": {},
     "output_type": "execute_result"
    }
   ],
   "source": [
    "# Evaluez modelul pe datele train\n",
    "\n",
    "model.evaluate( x_train, y_train_new)[1]"
   ]
  },
  {
   "cell_type": "code",
   "execution_count": 129,
   "metadata": {},
   "outputs": [
    {
     "data": {
      "text/plain": [
       "20"
      ]
     },
     "execution_count": 129,
     "metadata": {},
     "output_type": "execute_result"
    }
   ],
   "source": [
    "gc.collect()"
   ]
  },
  {
   "cell_type": "code",
   "execution_count": null,
   "metadata": {},
   "outputs": [],
   "source": []
  },
  {
   "cell_type": "code",
   "execution_count": null,
   "metadata": {},
   "outputs": [],
   "source": []
  },
  {
   "cell_type": "code",
   "execution_count": null,
   "metadata": {},
   "outputs": [],
   "source": [
    "# Efectuez diferite teste pe modelul curent CNN"
   ]
  },
  {
   "cell_type": "code",
   "execution_count": 142,
   "metadata": {},
   "outputs": [
    {
     "name": "stdout",
     "output_type": "stream",
     "text": [
      "157/157 [==============================] - 1s 6ms/step - loss: 0.4641 - accuracy: 0.8788\n"
     ]
    },
    {
     "data": {
      "text/plain": [
       "0.8787999749183655"
      ]
     },
     "execution_count": 142,
     "metadata": {},
     "output_type": "execute_result"
    }
   ],
   "source": [
    "# Evaluez modelul pe datele de validare cu optimizatorul Adam\n",
    "\n",
    "model.evaluate( x_validation, y_validation_new)[1]"
   ]
  },
  {
   "cell_type": "code",
   "execution_count": 143,
   "metadata": {},
   "outputs": [
    {
     "name": "stdout",
     "output_type": "stream",
     "text": [
      "938/938 [==============================] - 5s 6ms/step - loss: 0.0179 - accuracy: 0.9958\n"
     ]
    },
    {
     "data": {
      "text/plain": [
       "0.9958001375198364"
      ]
     },
     "execution_count": 143,
     "metadata": {},
     "output_type": "execute_result"
    }
   ],
   "source": [
    "# Evaluez modelul pe datele train\n",
    "\n",
    "model.evaluate( x_train, y_train_new)[1]"
   ]
  },
  {
   "cell_type": "code",
   "execution_count": 129,
   "metadata": {},
   "outputs": [
    {
     "data": {
      "text/plain": [
       "20"
      ]
     },
     "execution_count": 129,
     "metadata": {},
     "output_type": "execute_result"
    }
   ],
   "source": [
    "gc.collect()"
   ]
  },
  {
   "cell_type": "code",
   "execution_count": null,
   "metadata": {},
   "outputs": [],
   "source": []
  },
  {
   "cell_type": "code",
   "execution_count": null,
   "metadata": {},
   "outputs": [],
   "source": []
  },
  {
   "cell_type": "code",
   "execution_count": 195,
   "metadata": {},
   "outputs": [
    {
     "name": "stdout",
     "output_type": "stream",
     "text": [
      "157/157 [==============================] - 2s 12ms/step - loss: 0.6376 - accuracy: 0.8936\n"
     ]
    },
    {
     "data": {
      "text/plain": [
       "0.8935999870300293"
      ]
     },
     "execution_count": 195,
     "metadata": {},
     "output_type": "execute_result"
    }
   ],
   "source": [
    "# Evaluez modelul pe datele de validare cu optimizatorul RMSprop si aplicat (learning_rate = 1e-3)\n",
    "\n",
    "model.evaluate( x_validation, y_validation_new)[1]"
   ]
  },
  {
   "cell_type": "code",
   "execution_count": 196,
   "metadata": {},
   "outputs": [
    {
     "name": "stdout",
     "output_type": "stream",
     "text": [
      "938/938 [==============================] - 11s 12ms/step - loss: 3.6842e-04 - accuracy: 1.00001s - loss: 3.7323e-04 - ac - ETA: 0s - loss: 3.705\n"
     ]
    },
    {
     "data": {
      "text/plain": [
       "0.9999666810035706"
      ]
     },
     "execution_count": 196,
     "metadata": {},
     "output_type": "execute_result"
    }
   ],
   "source": [
    "# Evaluez modelul pe datele train\n",
    "\n",
    "model.evaluate( x_train, y_train_new)[1]"
   ]
  },
  {
   "cell_type": "code",
   "execution_count": 197,
   "metadata": {},
   "outputs": [
    {
     "data": {
      "text/plain": [
       "4458"
      ]
     },
     "execution_count": 197,
     "metadata": {},
     "output_type": "execute_result"
    }
   ],
   "source": [
    "gc.collect()"
   ]
  },
  {
   "cell_type": "code",
   "execution_count": null,
   "metadata": {},
   "outputs": [],
   "source": []
  },
  {
   "cell_type": "code",
   "execution_count": null,
   "metadata": {},
   "outputs": [],
   "source": []
  },
  {
   "cell_type": "code",
   "execution_count": 180,
   "metadata": {},
   "outputs": [
    {
     "name": "stdout",
     "output_type": "stream",
     "text": [
      "157/157 [==============================] - 2s 12ms/step - loss: 0.6095 - accuracy: 0.8932\n"
     ]
    },
    {
     "data": {
      "text/plain": [
       "0.8931999802589417"
      ]
     },
     "execution_count": 180,
     "metadata": {},
     "output_type": "execute_result"
    }
   ],
   "source": [
    "# Evaluez modelul pe datele de validare cu optimizatorul RMSprop\n",
    "\n",
    "model.evaluate( x_validation, y_validation_new)[1]"
   ]
  },
  {
   "cell_type": "code",
   "execution_count": 181,
   "metadata": {},
   "outputs": [
    {
     "name": "stdout",
     "output_type": "stream",
     "text": [
      "938/938 [==============================] - 11s 12ms/step - loss: 8.7653e-04 - accuracy: 1.00000s - loss: 8.8422e-04 - accu\n"
     ]
    },
    {
     "data": {
      "text/plain": [
       "1.0"
      ]
     },
     "execution_count": 181,
     "metadata": {},
     "output_type": "execute_result"
    }
   ],
   "source": [
    "# Evaluez modelul pe datele train\n",
    "\n",
    "model.evaluate( x_train, y_train_new)[1]"
   ]
  },
  {
   "cell_type": "code",
   "execution_count": 178,
   "metadata": {},
   "outputs": [
    {
     "data": {
      "text/plain": [
       "20"
      ]
     },
     "execution_count": 178,
     "metadata": {},
     "output_type": "execute_result"
    }
   ],
   "source": [
    "gc.collect()"
   ]
  },
  {
   "cell_type": "code",
   "execution_count": null,
   "metadata": {},
   "outputs": [],
   "source": []
  },
  {
   "cell_type": "code",
   "execution_count": null,
   "metadata": {},
   "outputs": [],
   "source": []
  },
  {
   "cell_type": "code",
   "execution_count": 135,
   "metadata": {},
   "outputs": [
    {
     "name": "stdout",
     "output_type": "stream",
     "text": [
      "157/157 [==============================] - 1s 5ms/step - loss: 0.5492 - accuracy: 0.8922\n"
     ]
    },
    {
     "data": {
      "text/plain": [
       "0.8921999931335449"
      ]
     },
     "execution_count": 135,
     "metadata": {},
     "output_type": "execute_result"
    }
   ],
   "source": [
    "# Evaluez modelul pe datele de validare\n",
    "\n",
    "model.evaluate( x_validation, y_validation_new)[1]"
   ]
  },
  {
   "cell_type": "code",
   "execution_count": 136,
   "metadata": {},
   "outputs": [
    {
     "name": "stdout",
     "output_type": "stream",
     "text": [
      "938/938 [==============================] - 5s 5ms/step - loss: 3.4944e-04 - accuracy: 1.0000\n"
     ]
    },
    {
     "data": {
      "text/plain": [
       "1.0"
      ]
     },
     "execution_count": 136,
     "metadata": {},
     "output_type": "execute_result"
    }
   ],
   "source": [
    "# Evaluez modelul pe datele train\n",
    "\n",
    "model.evaluate( x_train, y_train_new)[1]"
   ]
  },
  {
   "cell_type": "code",
   "execution_count": 146,
   "metadata": {},
   "outputs": [
    {
     "data": {
      "text/plain": [
       "20"
      ]
     },
     "execution_count": 146,
     "metadata": {},
     "output_type": "execute_result"
    }
   ],
   "source": [
    "gc.collect()"
   ]
  },
  {
   "cell_type": "code",
   "execution_count": null,
   "metadata": {},
   "outputs": [],
   "source": []
  },
  {
   "cell_type": "code",
   "execution_count": null,
   "metadata": {},
   "outputs": [],
   "source": []
  },
  {
   "cell_type": "code",
   "execution_count": 115,
   "metadata": {},
   "outputs": [
    {
     "name": "stdout",
     "output_type": "stream",
     "text": [
      "157/157 [==============================] - 1s 5ms/step - loss: 0.5716 - accuracy: 0.8940\n"
     ]
    },
    {
     "data": {
      "text/plain": [
       "0.8939999938011169"
      ]
     },
     "execution_count": 115,
     "metadata": {},
     "output_type": "execute_result"
    }
   ],
   "source": [
    "# Evaluez modelul pe datele de validare\n",
    "\n",
    "model.evaluate( x_validation, y_validation_new)[1]"
   ]
  },
  {
   "cell_type": "code",
   "execution_count": 116,
   "metadata": {},
   "outputs": [
    {
     "name": "stdout",
     "output_type": "stream",
     "text": [
      "938/938 [==============================] - 5s 6ms/step - loss: 2.3445e-04 - accuracy: 1.0000\n"
     ]
    },
    {
     "data": {
      "text/plain": [
       "1.0"
      ]
     },
     "execution_count": 116,
     "metadata": {},
     "output_type": "execute_result"
    }
   ],
   "source": [
    "# Evaluez modelul pe datele train\n",
    "\n",
    "model.evaluate( x_train, y_train_new)[1]"
   ]
  },
  {
   "cell_type": "code",
   "execution_count": 101,
   "metadata": {},
   "outputs": [
    {
     "data": {
      "text/plain": [
       "20"
      ]
     },
     "execution_count": 101,
     "metadata": {},
     "output_type": "execute_result"
    }
   ],
   "source": [
    "gc.collect()"
   ]
  },
  {
   "cell_type": "code",
   "execution_count": null,
   "metadata": {},
   "outputs": [],
   "source": []
  },
  {
   "cell_type": "code",
   "execution_count": null,
   "metadata": {},
   "outputs": [],
   "source": []
  },
  {
   "cell_type": "code",
   "execution_count": 97,
   "metadata": {},
   "outputs": [
    {
     "name": "stdout",
     "output_type": "stream",
     "text": [
      "157/157 [==============================] - 1s 6ms/step - loss: 0.5033 - accuracy: 0.8908\n"
     ]
    },
    {
     "data": {
      "text/plain": [
       "0.8907999992370605"
      ]
     },
     "execution_count": 97,
     "metadata": {},
     "output_type": "execute_result"
    }
   ],
   "source": [
    "# Evaluez modelul pe datele de validare\n",
    "\n",
    "model.evaluate( x_validation, y_validation_new)[1]"
   ]
  },
  {
   "cell_type": "code",
   "execution_count": 98,
   "metadata": {},
   "outputs": [
    {
     "name": "stdout",
     "output_type": "stream",
     "text": [
      "938/938 [==============================] - 5s 5ms/step - loss: 0.0010 - accuracy: 0.9999\n"
     ]
    },
    {
     "data": {
      "text/plain": [
       "0.9999333620071411"
      ]
     },
     "execution_count": 98,
     "metadata": {},
     "output_type": "execute_result"
    }
   ],
   "source": [
    "# Evaluez modelul pe datele train\n",
    "\n",
    "model.evaluate( x_train, y_train_new)[1]"
   ]
  },
  {
   "cell_type": "code",
   "execution_count": 101,
   "metadata": {},
   "outputs": [
    {
     "data": {
      "text/plain": [
       "20"
      ]
     },
     "execution_count": 101,
     "metadata": {},
     "output_type": "execute_result"
    }
   ],
   "source": [
    "gc.collect()"
   ]
  },
  {
   "cell_type": "code",
   "execution_count": null,
   "metadata": {},
   "outputs": [],
   "source": []
  },
  {
   "cell_type": "code",
   "execution_count": null,
   "metadata": {},
   "outputs": [],
   "source": []
  },
  {
   "cell_type": "code",
   "execution_count": 198,
   "metadata": {},
   "outputs": [],
   "source": [
    "# Test pentru clasificatorul KNN\n",
    "# Pentru acuratetea de 0.7284 am obtinut:"
   ]
  },
  {
   "cell_type": "code",
   "execution_count": 66,
   "metadata": {},
   "outputs": [
    {
     "data": {
      "image/png": "[encoded data removed]",
      "text/plain": [
       "<Figure size 432x288 with 1 Axes>"
      ]
     },
     "metadata": {},
     "output_type": "display_data"
    }
   ],
   "source": [
    "# Observam pe diagrama acuratetea modelului\n",
    "\n",
    "plt.plot(hist.history['accuracy'])\n",
    "plt.plot(hist.history['val_accuracy'])\n",
    "\n",
    "plt.title('Model Accuracy')\n",
    "plt.xlabel('Epoch')\n",
    "plt.ylabel('Accuracy')\n",
    "plt.legend(['Train', 'Val'], loc = 'upper left')\n",
    "plt.show()"
   ]
  },
  {
   "cell_type": "code",
   "execution_count": 67,
   "metadata": {},
   "outputs": [
    {
     "data": {
      "image/png": "[encoded data removed]",
      "text/plain": [
       "<Figure size 432x288 with 1 Axes>"
      ]
     },
     "metadata": {},
     "output_type": "display_data"
    }
   ],
   "source": [
    "# Observam pe diagrama pierderile modelului\n",
    "\n",
    "plt.plot(hist.history['loss'])\n",
    "plt.plot(hist.history['val_loss'])\n",
    "\n",
    "plt.title('Model Loss')\n",
    "plt.xlabel('Epoch')\n",
    "plt.ylabel('Loss')\n",
    "plt.legend(['Train', 'Val'], loc = 'upper right')\n",
    "plt.show()"
   ]
  },
  {
   "cell_type": "code",
   "execution_count": null,
   "metadata": {},
   "outputs": [],
   "source": []
  },
  {
   "cell_type": "code",
   "execution_count": null,
   "metadata": {},
   "outputs": [],
   "source": []
  },
  {
   "cell_type": "code",
   "execution_count": 198,
   "metadata": {},
   "outputs": [],
   "source": [
    "# Pentru acuratetea de 0.8935 am obtinut:"
   ]
  },
  {
   "cell_type": "code",
   "execution_count": 199,
   "metadata": {},
   "outputs": [
    {
     "data": {
      "image/png": "[encoded data removed]",
      "text/plain": [
       "<Figure size 432x288 with 1 Axes>"
      ]
     },
     "metadata": {},
     "output_type": "display_data"
    }
   ],
   "source": [
    "# Observam pe diagrama acuratetea modelului\n",
    "\n",
    "plt.plot(hist.history['accuracy'])\n",
    "plt.plot(hist.history['val_accuracy'])\n",
    "\n",
    "plt.title('Model Accuracy')\n",
    "plt.xlabel('Epoch')\n",
    "plt.ylabel('Accuracy')\n",
    "plt.legend(['Train', 'Val'], loc = 'upper left')\n",
    "plt.show()"
   ]
  },
  {
   "cell_type": "code",
   "execution_count": 201,
   "metadata": {},
   "outputs": [
    {
     "data": {
      "image/png": "[encoded data removed]",
      "text/plain": [
       "<Figure size 432x288 with 1 Axes>"
      ]
     },
     "metadata": {},
     "output_type": "display_data"
    }
   ],
   "source": [
    "# Observam pe diagrama pierderile modelului\n",
    "\n",
    "plt.plot(hist.history['loss'])\n",
    "plt.plot(hist.history['val_loss'])\n",
    "\n",
    "plt.title('Model Loss')\n",
    "plt.xlabel('Epoch')\n",
    "plt.ylabel('Loss')\n",
    "plt.legend(['Train', 'Val'], loc = 'upper right')\n",
    "plt.show()"
   ]
  },
  {
   "cell_type": "code",
   "execution_count": null,
   "metadata": {},
   "outputs": [],
   "source": []
  },
  {
   "cell_type": "code",
   "execution_count": null,
   "metadata": {},
   "outputs": [],
   "source": []
  },
  {
   "cell_type": "code",
   "execution_count": null,
   "metadata": {},
   "outputs": [],
   "source": [
    "# Pentru acuratetea 0.8931 am obtinut:"
   ]
  },
  {
   "cell_type": "code",
   "execution_count": 182,
   "metadata": {},
   "outputs": [
    {
     "data": {
      "image/png": "[encoded data removed]",
      "text/plain": [
       "<Figure size 432x288 with 1 Axes>"
      ]
     },
     "metadata": {},
     "output_type": "display_data"
    }
   ],
   "source": [
    "# Observam pe diagrama acuratetea modelului\n",
    "\n",
    "plt.plot(hist.history['accuracy'])\n",
    "plt.plot(hist.history['val_accuracy'])\n",
    "\n",
    "plt.title('Model Accuracy')\n",
    "plt.xlabel('Epoch')\n",
    "plt.ylabel('Accuracy')\n",
    "plt.legend(['Train', 'Val'], loc = 'upper left')\n",
    "plt.show()"
   ]
  },
  {
   "cell_type": "code",
   "execution_count": 183,
   "metadata": {},
   "outputs": [
    {
     "data": {
      "image/png": "[encoded data removed]",
      "text/plain": [
       "<Figure size 432x288 with 1 Axes>"
      ]
     },
     "metadata": {},
     "output_type": "display_data"
    }
   ],
   "source": [
    "# Observam pe diagrama pierderile modelului\n",
    "\n",
    "plt.plot(hist.history['loss'])\n",
    "plt.plot(hist.history['val_loss'])\n",
    "\n",
    "plt.title('Model Loss')\n",
    "plt.xlabel('Epoch')\n",
    "plt.ylabel('Loss')\n",
    "plt.legend(['Train', 'Val'], loc = 'upper right')\n",
    "plt.show()"
   ]
  },
  {
   "cell_type": "code",
   "execution_count": null,
   "metadata": {},
   "outputs": [],
   "source": []
  },
  {
   "cell_type": "code",
   "execution_count": null,
   "metadata": {},
   "outputs": [],
   "source": []
  },
  {
   "cell_type": "code",
   "execution_count": 119,
   "metadata": {},
   "outputs": [],
   "source": [
    "# Rezultaltat pentru clasificatorul KNN"
   ]
  },
  {
   "cell_type": "code",
   "execution_count": 123,
   "metadata": {},
   "outputs": [
    {
     "name": "stdout",
     "output_type": "stream",
     "text": [
      "[[391  12  11  12  57   3  43  11  30]\n",
      " [ 20 401  50  14  13   3   8  14   4]\n",
      " [  9  17 424  15  32  16  14   6   0]\n",
      " [ 13   7  24 422  29  21  26  10  26]\n",
      " [ 50  12  57  27 368  13   8  11   8]\n",
      " [ 16   2  48  38  24 376  29  22   6]\n",
      " [ 11  11  14  13   4   3 511   3  10]\n",
      " [ 51  22  25  38  25  11  33 313   2]\n",
      " [ 41   3   1  20   3   8  62   3 436]]\n"
     ]
    }
   ],
   "source": [
    "# Pentru acuratetea de 0.7284 am obtinut:\n",
    "\n",
    "# Formez matricea de confuzie\n",
    "\n",
    "my_classes = [0, 1, 2, 3, 4, 5, 6, 7, 8]\n",
    "\n",
    "# generez predictiile pentru datele de validare\n",
    "predicted_prob = model.predict(x_validation)\n",
    "\n",
    "# generez predictiile pentru clasele mele\n",
    "predictions = np.argmax(predicted_prob, axis=1)\n",
    "\n",
    "labels_flat = np.argmax(y_validation_new, axis=1)\n",
    "\n",
    "mat =  tf.math.confusion_matrix(labels_flat, predictions).numpy()\n",
    "print(mat)"
   ]
  },
  {
   "cell_type": "code",
   "execution_count": 125,
   "metadata": {},
   "outputs": [
    {
     "name": "stdout",
     "output_type": "stream",
     "text": [
      "[[0.686 0.021 0.019 0.021 0.1   0.005 0.075 0.019 0.053]\n",
      " [0.038 0.761 0.095 0.027 0.025 0.006 0.015 0.027 0.008]\n",
      " [0.017 0.032 0.795 0.028 0.06  0.03  0.026 0.011 0.   ]\n",
      " [0.022 0.012 0.042 0.73  0.05  0.036 0.045 0.017 0.045]\n",
      " [0.09  0.022 0.103 0.049 0.664 0.023 0.014 0.02  0.014]\n",
      " [0.029 0.004 0.086 0.068 0.043 0.67  0.052 0.039 0.011]\n",
      " [0.019 0.019 0.024 0.022 0.007 0.005 0.881 0.005 0.017]\n",
      " [0.098 0.042 0.048 0.073 0.048 0.021 0.063 0.602 0.004]\n",
      " [0.071 0.005 0.002 0.035 0.005 0.014 0.107 0.005 0.756]]\n"
     ]
    }
   ],
   "source": [
    "# normalizez valorile\n",
    "mat_norm = np.around(mat.astype('float') / mat.sum(axis=1)[:, np.newaxis], decimals=3)\n",
    "\n",
    "print(mat_norm)"
   ]
  },
  {
   "cell_type": "code",
   "execution_count": 127,
   "metadata": {},
   "outputs": [
    {
     "data": {
      "text/html": [
       "<div>\n",
       "<style scoped>\n",
       "    .dataframe tbody tr th:only-of-type {\n",
       "        vertical-align: middle;\n",
       "    }\n",
       "\n",
       "    .dataframe tbody tr th {\n",
       "        vertical-align: top;\n",
       "    }\n",
       "\n",
       "    .dataframe thead th {\n",
       "        text-align: right;\n",
       "    }\n",
       "</style>\n",
       "<table border=\"1\" class=\"dataframe\">\n",
       "  <thead>\n",
       "    <tr style=\"text-align: right;\">\n",
       "      <th></th>\n",
       "      <th>0</th>\n",
       "      <th>1</th>\n",
       "      <th>2</th>\n",
       "      <th>3</th>\n",
       "      <th>4</th>\n",
       "      <th>5</th>\n",
       "      <th>6</th>\n",
       "      <th>7</th>\n",
       "      <th>8</th>\n",
       "    </tr>\n",
       "  </thead>\n",
       "  <tbody>\n",
       "    <tr>\n",
       "      <th>0</th>\n",
       "      <td>0.686</td>\n",
       "      <td>0.021</td>\n",
       "      <td>0.019</td>\n",
       "      <td>0.021</td>\n",
       "      <td>0.100</td>\n",
       "      <td>0.005</td>\n",
       "      <td>0.075</td>\n",
       "      <td>0.019</td>\n",
       "      <td>0.053</td>\n",
       "    </tr>\n",
       "    <tr>\n",
       "      <th>1</th>\n",
       "      <td>0.038</td>\n",
       "      <td>0.761</td>\n",
       "      <td>0.095</td>\n",
       "      <td>0.027</td>\n",
       "      <td>0.025</td>\n",
       "      <td>0.006</td>\n",
       "      <td>0.015</td>\n",
       "      <td>0.027</td>\n",
       "      <td>0.008</td>\n",
       "    </tr>\n",
       "    <tr>\n",
       "      <th>2</th>\n",
       "      <td>0.017</td>\n",
       "      <td>0.032</td>\n",
       "      <td>0.795</td>\n",
       "      <td>0.028</td>\n",
       "      <td>0.060</td>\n",
       "      <td>0.030</td>\n",
       "      <td>0.026</td>\n",
       "      <td>0.011</td>\n",
       "      <td>0.000</td>\n",
       "    </tr>\n",
       "    <tr>\n",
       "      <th>3</th>\n",
       "      <td>0.022</td>\n",
       "      <td>0.012</td>\n",
       "      <td>0.042</td>\n",
       "      <td>0.730</td>\n",
       "      <td>0.050</td>\n",
       "      <td>0.036</td>\n",
       "      <td>0.045</td>\n",
       "      <td>0.017</td>\n",
       "      <td>0.045</td>\n",
       "    </tr>\n",
       "    <tr>\n",
       "      <th>4</th>\n",
       "      <td>0.090</td>\n",
       "      <td>0.022</td>\n",
       "      <td>0.103</td>\n",
       "      <td>0.049</td>\n",
       "      <td>0.664</td>\n",
       "      <td>0.023</td>\n",
       "      <td>0.014</td>\n",
       "      <td>0.020</td>\n",
       "      <td>0.014</td>\n",
       "    </tr>\n",
       "    <tr>\n",
       "      <th>5</th>\n",
       "      <td>0.029</td>\n",
       "      <td>0.004</td>\n",
       "      <td>0.086</td>\n",
       "      <td>0.068</td>\n",
       "      <td>0.043</td>\n",
       "      <td>0.670</td>\n",
       "      <td>0.052</td>\n",
       "      <td>0.039</td>\n",
       "      <td>0.011</td>\n",
       "    </tr>\n",
       "    <tr>\n",
       "      <th>6</th>\n",
       "      <td>0.019</td>\n",
       "      <td>0.019</td>\n",
       "      <td>0.024</td>\n",
       "      <td>0.022</td>\n",
       "      <td>0.007</td>\n",
       "      <td>0.005</td>\n",
       "      <td>0.881</td>\n",
       "      <td>0.005</td>\n",
       "      <td>0.017</td>\n",
       "    </tr>\n",
       "    <tr>\n",
       "      <th>7</th>\n",
       "      <td>0.098</td>\n",
       "      <td>0.042</td>\n",
       "      <td>0.048</td>\n",
       "      <td>0.073</td>\n",
       "      <td>0.048</td>\n",
       "      <td>0.021</td>\n",
       "      <td>0.063</td>\n",
       "      <td>0.602</td>\n",
       "      <td>0.004</td>\n",
       "    </tr>\n",
       "    <tr>\n",
       "      <th>8</th>\n",
       "      <td>0.071</td>\n",
       "      <td>0.005</td>\n",
       "      <td>0.002</td>\n",
       "      <td>0.035</td>\n",
       "      <td>0.005</td>\n",
       "      <td>0.014</td>\n",
       "      <td>0.107</td>\n",
       "      <td>0.005</td>\n",
       "      <td>0.756</td>\n",
       "    </tr>\n",
       "  </tbody>\n",
       "</table>\n",
       "</div>"
      ],
      "text/plain": [
       "       0      1      2      3      4      5      6      7      8\n",
       "0  0.686  0.021  0.019  0.021  0.100  0.005  0.075  0.019  0.053\n",
       "1  0.038  0.761  0.095  0.027  0.025  0.006  0.015  0.027  0.008\n",
       "2  0.017  0.032  0.795  0.028  0.060  0.030  0.026  0.011  0.000\n",
       "3  0.022  0.012  0.042  0.730  0.050  0.036  0.045  0.017  0.045\n",
       "4  0.090  0.022  0.103  0.049  0.664  0.023  0.014  0.020  0.014\n",
       "5  0.029  0.004  0.086  0.068  0.043  0.670  0.052  0.039  0.011\n",
       "6  0.019  0.019  0.024  0.022  0.007  0.005  0.881  0.005  0.017\n",
       "7  0.098  0.042  0.048  0.073  0.048  0.021  0.063  0.602  0.004\n",
       "8  0.071  0.005  0.002  0.035  0.005  0.014  0.107  0.005  0.756"
      ]
     },
     "execution_count": 127,
     "metadata": {},
     "output_type": "execute_result"
    }
   ],
   "source": [
    "# incadrez intr-un tabel\n",
    "mat_norm2 = pd.DataFrame(mat_norm,\n",
    "                     index = my_classes, \n",
    "                     columns = my_classes)\n",
    "mat_norm2"
   ]
  },
  {
   "cell_type": "code",
   "execution_count": 128,
   "metadata": {},
   "outputs": [
    {
     "data": {
      "image/png": "[encoded data removed]",
      "text/plain": [
       "<Figure size 576x576 with 2 Axes>"
      ]
     },
     "metadata": {},
     "output_type": "display_data"
    }
   ],
   "source": [
    "# Stilizez rezultatul\n",
    "figure = plt.figure(figsize=(8, 8))\n",
    "sns.heatmap(mat_norm2, annot = True, cmap = plt.cm.RdPu)\n",
    "\n",
    "plt.tight_layout()\n",
    "plt.title('Confusion Matrix')\n",
    "plt.ylabel('Real')\n",
    "plt.xlabel('Predicted')\n",
    "plt.show()"
   ]
  },
  {
   "cell_type": "code",
   "execution_count": null,
   "metadata": {},
   "outputs": [],
   "source": []
  },
  {
   "cell_type": "code",
   "execution_count": null,
   "metadata": {},
   "outputs": [],
   "source": []
  },
  {
   "cell_type": "code",
   "execution_count": null,
   "metadata": {},
   "outputs": [],
   "source": []
  },
  {
   "cell_type": "code",
   "execution_count": null,
   "metadata": {},
   "outputs": [],
   "source": [
    "# obtin matricea de confuzie pentru CNN ales de mine"
   ]
  },
  {
   "cell_type": "code",
   "execution_count": 109,
   "metadata": {},
   "outputs": [
    {
     "name": "stdout",
     "output_type": "stream",
     "text": [
      "[[473   6   7   6  21   2  22  14  19]\n",
      " [ 15 479   5   4   2   1   3  14   4]\n",
      " [ 11   7 450  20  17  11   4  13   0]\n",
      " [  8   4   5 518  10   4   3  17   9]\n",
      " [ 34   6  20  20 447  10   3   8   6]\n",
      " [  4   1  17  22   5 483  11  13   5]\n",
      " [  5   1   2   5   3   1 552   4   7]\n",
      " [ 10   9   9  16   3  14   9 449   1]\n",
      " [ 13   1   0  11   1   1  20   3 527]]\n"
     ]
    }
   ],
   "source": [
    "# Pentru acuratetea de 0.8935\n",
    "# Formez matricea de confuzie\n",
    "\n",
    "my_classes = [0, 1, 2, 3, 4, 5, 6, 7, 8]\n",
    "\n",
    "# generez predictiile pentru datele de validare\n",
    "predicted_prob = model.predict(x_validation)\n",
    "\n",
    "# generez predictiile pentru clasele mele\n",
    "predictions = np.argmax(predicted_prob, axis=1)\n",
    "\n",
    "labels_flat = np.argmax(y_validation_new, axis=1)\n",
    "\n",
    "mat =  tf.math.confusion_matrix(labels_flat, predictions).numpy()\n",
    "print(mat)"
   ]
  },
  {
   "cell_type": "code",
   "execution_count": 110,
   "metadata": {},
   "outputs": [
    {
     "name": "stdout",
     "output_type": "stream",
     "text": [
      "[[0.83  0.011 0.012 0.011 0.037 0.004 0.039 0.025 0.033]\n",
      " [0.028 0.909 0.009 0.008 0.004 0.002 0.006 0.027 0.008]\n",
      " [0.021 0.013 0.844 0.038 0.032 0.021 0.008 0.024 0.   ]\n",
      " [0.014 0.007 0.009 0.896 0.017 0.007 0.005 0.029 0.016]\n",
      " [0.061 0.011 0.036 0.036 0.807 0.018 0.005 0.014 0.011]\n",
      " [0.007 0.002 0.03  0.039 0.009 0.861 0.02  0.023 0.009]\n",
      " [0.009 0.002 0.003 0.009 0.005 0.002 0.952 0.007 0.012]\n",
      " [0.019 0.017 0.017 0.031 0.006 0.027 0.017 0.863 0.002]\n",
      " [0.023 0.002 0.    0.019 0.002 0.002 0.035 0.005 0.913]]\n"
     ]
    }
   ],
   "source": [
    "# normalizez valorile\n",
    "mat_norm = np.around(mat.astype('float') / mat.sum(axis=1)[:, np.newaxis], decimals=3)\n",
    "\n",
    "print(mat_norm)"
   ]
  },
  {
   "cell_type": "code",
   "execution_count": 111,
   "metadata": {},
   "outputs": [
    {
     "data": {
      "text/html": [
       "<div>\n",
       "<style scoped>\n",
       "    .dataframe tbody tr th:only-of-type {\n",
       "        vertical-align: middle;\n",
       "    }\n",
       "\n",
       "    .dataframe tbody tr th {\n",
       "        vertical-align: top;\n",
       "    }\n",
       "\n",
       "    .dataframe thead th {\n",
       "        text-align: right;\n",
       "    }\n",
       "</style>\n",
       "<table border=\"1\" class=\"dataframe\">\n",
       "  <thead>\n",
       "    <tr style=\"text-align: right;\">\n",
       "      <th></th>\n",
       "      <th>0</th>\n",
       "      <th>1</th>\n",
       "      <th>2</th>\n",
       "      <th>3</th>\n",
       "      <th>4</th>\n",
       "      <th>5</th>\n",
       "      <th>6</th>\n",
       "      <th>7</th>\n",
       "      <th>8</th>\n",
       "    </tr>\n",
       "  </thead>\n",
       "  <tbody>\n",
       "    <tr>\n",
       "      <th>0</th>\n",
       "      <td>0.830</td>\n",
       "      <td>0.011</td>\n",
       "      <td>0.012</td>\n",
       "      <td>0.011</td>\n",
       "      <td>0.037</td>\n",
       "      <td>0.004</td>\n",
       "      <td>0.039</td>\n",
       "      <td>0.025</td>\n",
       "      <td>0.033</td>\n",
       "    </tr>\n",
       "    <tr>\n",
       "      <th>1</th>\n",
       "      <td>0.028</td>\n",
       "      <td>0.909</td>\n",
       "      <td>0.009</td>\n",
       "      <td>0.008</td>\n",
       "      <td>0.004</td>\n",
       "      <td>0.002</td>\n",
       "      <td>0.006</td>\n",
       "      <td>0.027</td>\n",
       "      <td>0.008</td>\n",
       "    </tr>\n",
       "    <tr>\n",
       "      <th>2</th>\n",
       "      <td>0.021</td>\n",
       "      <td>0.013</td>\n",
       "      <td>0.844</td>\n",
       "      <td>0.038</td>\n",
       "      <td>0.032</td>\n",
       "      <td>0.021</td>\n",
       "      <td>0.008</td>\n",
       "      <td>0.024</td>\n",
       "      <td>0.000</td>\n",
       "    </tr>\n",
       "    <tr>\n",
       "      <th>3</th>\n",
       "      <td>0.014</td>\n",
       "      <td>0.007</td>\n",
       "      <td>0.009</td>\n",
       "      <td>0.896</td>\n",
       "      <td>0.017</td>\n",
       "      <td>0.007</td>\n",
       "      <td>0.005</td>\n",
       "      <td>0.029</td>\n",
       "      <td>0.016</td>\n",
       "    </tr>\n",
       "    <tr>\n",
       "      <th>4</th>\n",
       "      <td>0.061</td>\n",
       "      <td>0.011</td>\n",
       "      <td>0.036</td>\n",
       "      <td>0.036</td>\n",
       "      <td>0.807</td>\n",
       "      <td>0.018</td>\n",
       "      <td>0.005</td>\n",
       "      <td>0.014</td>\n",
       "      <td>0.011</td>\n",
       "    </tr>\n",
       "    <tr>\n",
       "      <th>5</th>\n",
       "      <td>0.007</td>\n",
       "      <td>0.002</td>\n",
       "      <td>0.030</td>\n",
       "      <td>0.039</td>\n",
       "      <td>0.009</td>\n",
       "      <td>0.861</td>\n",
       "      <td>0.020</td>\n",
       "      <td>0.023</td>\n",
       "      <td>0.009</td>\n",
       "    </tr>\n",
       "    <tr>\n",
       "      <th>6</th>\n",
       "      <td>0.009</td>\n",
       "      <td>0.002</td>\n",
       "      <td>0.003</td>\n",
       "      <td>0.009</td>\n",
       "      <td>0.005</td>\n",
       "      <td>0.002</td>\n",
       "      <td>0.952</td>\n",
       "      <td>0.007</td>\n",
       "      <td>0.012</td>\n",
       "    </tr>\n",
       "    <tr>\n",
       "      <th>7</th>\n",
       "      <td>0.019</td>\n",
       "      <td>0.017</td>\n",
       "      <td>0.017</td>\n",
       "      <td>0.031</td>\n",
       "      <td>0.006</td>\n",
       "      <td>0.027</td>\n",
       "      <td>0.017</td>\n",
       "      <td>0.863</td>\n",
       "      <td>0.002</td>\n",
       "    </tr>\n",
       "    <tr>\n",
       "      <th>8</th>\n",
       "      <td>0.023</td>\n",
       "      <td>0.002</td>\n",
       "      <td>0.000</td>\n",
       "      <td>0.019</td>\n",
       "      <td>0.002</td>\n",
       "      <td>0.002</td>\n",
       "      <td>0.035</td>\n",
       "      <td>0.005</td>\n",
       "      <td>0.913</td>\n",
       "    </tr>\n",
       "  </tbody>\n",
       "</table>\n",
       "</div>"
      ],
      "text/plain": [
       "       0      1      2      3      4      5      6      7      8\n",
       "0  0.830  0.011  0.012  0.011  0.037  0.004  0.039  0.025  0.033\n",
       "1  0.028  0.909  0.009  0.008  0.004  0.002  0.006  0.027  0.008\n",
       "2  0.021  0.013  0.844  0.038  0.032  0.021  0.008  0.024  0.000\n",
       "3  0.014  0.007  0.009  0.896  0.017  0.007  0.005  0.029  0.016\n",
       "4  0.061  0.011  0.036  0.036  0.807  0.018  0.005  0.014  0.011\n",
       "5  0.007  0.002  0.030  0.039  0.009  0.861  0.020  0.023  0.009\n",
       "6  0.009  0.002  0.003  0.009  0.005  0.002  0.952  0.007  0.012\n",
       "7  0.019  0.017  0.017  0.031  0.006  0.027  0.017  0.863  0.002\n",
       "8  0.023  0.002  0.000  0.019  0.002  0.002  0.035  0.005  0.913"
      ]
     },
     "execution_count": 111,
     "metadata": {},
     "output_type": "execute_result"
    }
   ],
   "source": [
    "# incadrez intr-un tabel\n",
    "mat_norm2 = pd.DataFrame(mat_norm,\n",
    "                     index = my_classes, \n",
    "                     columns = my_classes)\n",
    "mat_norm2"
   ]
  },
  {
   "cell_type": "code",
   "execution_count": 121,
   "metadata": {},
   "outputs": [
    {
     "data": {
      "image/png": "[encoded data removed]",
      "text/plain": [
       "<Figure size 576x576 with 2 Axes>"
      ]
     },
     "metadata": {},
     "output_type": "display_data"
    }
   ],
   "source": [
    "# Stilizez rezultatul\n",
    "figure = plt.figure(figsize=(8, 8))\n",
    "sns.heatmap(mat_norm2, annot = True, cmap = plt.cm.RdPu)\n",
    "\n",
    "plt.tight_layout()\n",
    "plt.title('Confusion Matrix')\n",
    "plt.ylabel('Real')\n",
    "plt.xlabel('Predicted')\n",
    "plt.show()"
   ]
  },
  {
   "cell_type": "code",
   "execution_count": null,
   "metadata": {},
   "outputs": [],
   "source": []
  },
  {
   "cell_type": "code",
   "execution_count": null,
   "metadata": {},
   "outputs": [],
   "source": []
  },
  {
   "cell_type": "code",
   "execution_count": 134,
   "metadata": {},
   "outputs": [],
   "source": [
    "# Rezultaltat pentru clasificatorul KNN - acuratetea de 0.7284"
   ]
  },
  {
   "cell_type": "code",
   "execution_count": 135,
   "metadata": {},
   "outputs": [
    {
     "data": {
      "text/plain": [
       "array([[1.2559725e-01, 1.2293058e-02, 7.4327335e-02, ..., 1.8876433e-01,\n",
       "        6.4600468e-02, 2.6200248e-02],\n",
       "       [8.3792418e-01, 2.2487314e-03, 1.5365309e-02, ..., 1.7961403e-03,\n",
       "        2.3967728e-03, 7.7343108e-03],\n",
       "       [2.1835516e-01, 1.3695090e-01, 1.1637857e-01, ..., 2.2664474e-01,\n",
       "        1.0158751e-01, 6.1933514e-02],\n",
       "       ...,\n",
       "       [4.7954708e-02, 1.6519645e-01, 1.6908836e-01, ..., 1.2053973e-02,\n",
       "        4.6903709e-01, 8.7018106e-03],\n",
       "       [3.6679333e-01, 5.1510339e-03, 1.8540716e-02, ..., 3.1707349e-01,\n",
       "        2.6189440e-01, 9.4480840e-03],\n",
       "       [1.0638120e-01, 3.5140925e-04, 7.9620235e-02, ..., 4.8599365e-01,\n",
       "        5.2174646e-03, 3.8083813e-03]], dtype=float32)"
      ]
     },
     "execution_count": 135,
     "metadata": {},
     "output_type": "execute_result"
    }
   ],
   "source": [
    "# formez predictiile modelului pe datele de test\n",
    "predictions = model.predict(x_test)\n",
    "\n",
    "# afisez predictiile\n",
    "predictions"
   ]
  },
  {
   "cell_type": "code",
   "execution_count": 131,
   "metadata": {},
   "outputs": [
    {
     "name": "stdout",
     "output_type": "stream",
     "text": [
      "[5, 6, 4, 0, 3, 2, 7, 8, 1]\n"
     ]
    }
   ],
   "source": [
    "# Pentru acuratetea de 0.7284 am obtinut:\n",
    "# pentru a le vizualiza mai bine, le sortez crescator\n",
    "\n",
    "list_index = [0,1,2,3,4,5,6,7,8]\n",
    "x = predictions\n",
    "\n",
    "for i in range(9):\n",
    "    for j in range(9):\n",
    "        if x[0][list_index[i]] > x[0][list_index[j]]:\n",
    "            temp = list_index[i]\n",
    "            list_index[i] = list_index[j]\n",
    "            list_index[j] = temp\n",
    "            \n",
    "# afisez lista cu etichete sortata crescator\n",
    "print(list_index)"
   ]
  },
  {
   "cell_type": "code",
   "execution_count": 132,
   "metadata": {},
   "outputs": [
    {
     "name": "stdout",
     "output_type": "stream",
     "text": [
      "5 : 24.151 %\n",
      "6 : 18.876 %\n",
      "4 : 17.16 %\n",
      "0 : 12.56 %\n",
      "3 : 9.511 %\n"
     ]
    }
   ],
   "source": [
    "# Pentru acuratetea de 0.7284 am obtinut:\n",
    "# afisez primele 5 predictii\n",
    "\n",
    "for i in range(5):\n",
    "    print( classification[ list_index[i] ], ':', \n",
    "           round(predictions[0][ list_index[i] ] * 100,3) , '%')"
   ]
  },
  {
   "cell_type": "code",
   "execution_count": null,
   "metadata": {},
   "outputs": [],
   "source": []
  },
  {
   "cell_type": "code",
   "execution_count": null,
   "metadata": {},
   "outputs": [],
   "source": []
  },
  {
   "cell_type": "code",
   "execution_count": null,
   "metadata": {},
   "outputs": [],
   "source": [
    "# Rezultaltat pentru clasificatorul CNN -acuratetea de 0.8935"
   ]
  },
  {
   "cell_type": "code",
   "execution_count": 202,
   "metadata": {},
   "outputs": [
    {
     "data": {
      "text/plain": [
       "{'loss': [0.025029340758919716,\n",
       "  0.026072580367326736,\n",
       "  0.029233472421765327,\n",
       "  0.024436503648757935,\n",
       "  0.027286700904369354,\n",
       "  0.02848605439066887],\n",
       " 'accuracy': [0.9919002652168274,\n",
       "  0.9913336038589478,\n",
       "  0.9907670021057129,\n",
       "  0.9926669001579285,\n",
       "  0.9916002750396729,\n",
       "  0.991700291633606],\n",
       " 'val_loss': [0.6376479864120483,\n",
       "  0.6679909229278564,\n",
       "  0.7042123079299927,\n",
       "  0.7250640392303467,\n",
       "  0.7235111594200134,\n",
       "  0.7288457155227661],\n",
       " 'val_accuracy': [0.8935999870300293,\n",
       "  0.8888000249862671,\n",
       "  0.8884000182151794,\n",
       "  0.8844000101089478,\n",
       "  0.885200023651123,\n",
       "  0.8840000033378601]}"
      ]
     },
     "execution_count": 202,
     "metadata": {},
     "output_type": "execute_result"
    }
   ],
   "source": [
    "# afisez o scurta prezentare a rezultatelor obtinute anterior\n",
    "\n",
    "hist.history"
   ]
  },
  {
   "cell_type": "code",
   "execution_count": null,
   "metadata": {},
   "outputs": [],
   "source": [
    "# Rezultaltat pentru clasificatorul CNN -acuratetea de 0.8935"
   ]
  },
  {
   "cell_type": "code",
   "execution_count": 203,
   "metadata": {},
   "outputs": [
    {
     "data": {
      "text/plain": [
       "array([[1.3641286e-08, 7.5922552e-10, 2.0352768e-08, ..., 1.3657682e-09,\n",
       "        9.9198687e-01, 5.4975796e-10],\n",
       "       [9.1546941e-01, 2.2318100e-06, 7.7435558e-08, ..., 1.3284572e-09,\n",
       "        9.7669195e-05, 4.3045052e-09],\n",
       "       [1.7785070e-04, 9.2176092e-01, 7.6331429e-02, ..., 1.3214926e-04,\n",
       "        3.5097694e-04, 5.4300710e-04],\n",
       "       ...,\n",
       "       [2.3527494e-04, 3.9776972e-01, 5.8980179e-01, ..., 8.2556983e-07,\n",
       "        3.7366344e-04, 1.2865925e-08],\n",
       "       [2.0870343e-01, 1.0230374e-05, 1.1074110e-08, ..., 6.3577318e-05,\n",
       "        7.9120171e-01, 1.1612610e-06],\n",
       "       [3.8745230e-01, 2.4119755e-11, 1.5588868e-06, ..., 8.6665619e-11,\n",
       "        1.4638464e-08, 1.6328361e-12]], dtype=float32)"
      ]
     },
     "execution_count": 203,
     "metadata": {},
     "output_type": "execute_result"
    }
   ],
   "source": [
    "# formez predictiile modelului pe datele de test\n",
    "predictions = model.predict(x_test)\n",
    "\n",
    "# afisez predictiile\n",
    "predictions"
   ]
  },
  {
   "cell_type": "code",
   "execution_count": 204,
   "metadata": {},
   "outputs": [
    {
     "name": "stdout",
     "output_type": "stream",
     "text": [
      "predictions shape: (5000, 9)\n"
     ]
    }
   ],
   "source": [
    "# pentru a ma verifica, afisez dimensiunea predictiilor\n",
    "\n",
    "print(\"predictions shape:\", predictions.shape) "
   ]
  },
  {
   "cell_type": "code",
   "execution_count": 205,
   "metadata": {},
   "outputs": [
    {
     "name": "stdout",
     "output_type": "stream",
     "text": [
      "[7, 5, 4, 3, 2, 0, 6, 1, 8]\n"
     ]
    }
   ],
   "source": [
    "# Pentru acuratetea de 0.8935\n",
    "# pentru a le vizualiza mai bine, le sortez crescator\n",
    "\n",
    "list_index = [0,1,2,3,4,5,6,7,8]\n",
    "x = predictions\n",
    "\n",
    "for i in range(9):\n",
    "    for j in range(9):\n",
    "        if x[0][list_index[i]] > x[0][list_index[j]]:\n",
    "            temp = list_index[i]\n",
    "            list_index[i] = list_index[j]\n",
    "            list_index[j] = temp\n",
    "            \n",
    "# afisez lista cu etichete sortata crescator\n",
    "print(list_index)"
   ]
  },
  {
   "cell_type": "code",
   "execution_count": 207,
   "metadata": {},
   "outputs": [
    {
     "name": "stdout",
     "output_type": "stream",
     "text": [
      "7 : 99.199 %\n",
      "5 : 0.801 %\n",
      "4 : 0.0 %\n",
      "3 : 0.0 %\n",
      "2 : 0.0 %\n"
     ]
    }
   ],
   "source": [
    "# Pentru acuratetea de 0.8935\n",
    "# afisez primele 5 predictii\n",
    "\n",
    "for i in range(5):\n",
    "    print( classification[ list_index[i] ], ':', \n",
    "           round(predictions[0][ list_index[i] ] * 100,3) , '%')"
   ]
  },
  {
   "cell_type": "code",
   "execution_count": null,
   "metadata": {},
   "outputs": [],
   "source": []
  },
  {
   "cell_type": "code",
   "execution_count": 206,
   "metadata": {},
   "outputs": [
    {
     "name": "stdout",
     "output_type": "stream",
     "text": [
      "[7, 5, 4, 3, 2, 0, 6, 1, 8]\n"
     ]
    }
   ],
   "source": [
    "# Pentru acuratetea 0.8931\n",
    "# pentru a le vizualiza mai bine, le sortez crescator\n",
    "\n",
    "list_index = [0,1,2,3,4,5,6,7,8]\n",
    "x = predictions\n",
    "\n",
    "for i in range(9):\n",
    "    for j in range(9):\n",
    "        if x[0][list_index[i]] > x[0][list_index[j]]:\n",
    "            temp = list_index[i]\n",
    "            list_index[i] = list_index[j]\n",
    "            list_index[j] = temp\n",
    "            \n",
    "# afisez lista cu etichete sortata crescator\n",
    "print(list_index)"
   ]
  },
  {
   "cell_type": "code",
   "execution_count": 208,
   "metadata": {},
   "outputs": [
    {
     "name": "stdout",
     "output_type": "stream",
     "text": [
      "7 : 99.199 %\n",
      "5 : 0.801 %\n",
      "4 : 0.0 %\n",
      "3 : 0.0 %\n",
      "2 : 0.0 %\n"
     ]
    }
   ],
   "source": [
    "# Pentru acuratetea 0.8931\n",
    "# afisez primele 5 predictii\n",
    "\n",
    "for i in range(5):\n",
    "    print( classification[ list_index[i] ], ':', \n",
    "           round(predictions[0][ list_index[i] ] * 100,3) , '%')"
   ]
  },
  {
   "cell_type": "code",
   "execution_count": null,
   "metadata": {},
   "outputs": [],
   "source": []
  },
  {
   "cell_type": "code",
   "execution_count": 133,
   "metadata": {},
   "outputs": [],
   "source": [
    "# creez o functie de afisare\n",
    "def form_object(index):\n",
    "    return \"0\" + str(35001 + index) + \".png\"\n",
    "\n",
    "# afisez in fisier predictiile obtinute\n",
    "with open(\"submission.txt\", \"w\") as fout:\n",
    "    fout.write(\"id,label\\n\")\n",
    "    for index in range( len(x_test)):\n",
    "        label = np.argmax(predictions[index])\n",
    "        fout.write( form_object(index) + \",\" + str(label) + \"\\n\")\n"
   ]
  }
 ],
 "metadata": {
  "kernelspec": {
   "display_name": "Python 3",
   "language": "python",
   "name": "python3"
  },
  "language_info": {
   "codemirror_mode": {
    "name": "ipython",
    "version": 3
   },
   "file_extension": ".py",
   "mimetype": "text/x-python",
   "name": "python",
   "nbconvert_exporter": "python",
   "pygments_lexer": "ipython3",
   "version": "3.8.5"
  }
 },
 "nbformat": 4,
 "nbformat_minor": 4
}
